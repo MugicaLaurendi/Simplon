{
 "cells": [
  {
   "cell_type": "markdown",
   "id": "binding-connection",
   "metadata": {},
   "source": [
    "# Plot histogramme"
   ]
  },
  {
   "cell_type": "markdown",
   "id": "assumed-venice",
   "metadata": {},
   "source": [
    "## Initialisation du projet"
   ]
  },
  {
   "cell_type": "markdown",
   "id": "maritime-wallet",
   "metadata": {},
   "source": [
    "### Imports"
   ]
  },
  {
   "cell_type": "code",
   "execution_count": 53,
   "id": "weighted-lender",
   "metadata": {},
   "outputs": [],
   "source": [
    "import pandas as pd\n",
    "import numpy as np\n",
    "import matplotlib.pyplot as plt"
   ]
  },
  {
   "cell_type": "markdown",
   "id": "moved-climate",
   "metadata": {},
   "source": [
    "### Definition du  DataFrame"
   ]
  },
  {
   "cell_type": "code",
   "execution_count": 54,
   "id": "infinite-lincoln",
   "metadata": {},
   "outputs": [
    {
     "data": {
      "text/plain": [
       "pandas.core.frame.DataFrame"
      ]
     },
     "execution_count": 54,
     "metadata": {},
     "output_type": "execute_result"
    }
   ],
   "source": [
    "df = pd.read_csv(\"akinatorIA3F1.csv\")\n",
    "type(df)"
   ]
  },
  {
   "cell_type": "code",
   "execution_count": 55,
   "id": "higher-context",
   "metadata": {},
   "outputs": [
    {
     "data": {
      "text/html": [
       "<div>\n",
       "<style scoped>\n",
       "    .dataframe tbody tr th:only-of-type {\n",
       "        vertical-align: middle;\n",
       "    }\n",
       "\n",
       "    .dataframe tbody tr th {\n",
       "        vertical-align: top;\n",
       "    }\n",
       "\n",
       "    .dataframe thead th {\n",
       "        text-align: right;\n",
       "    }\n",
       "</style>\n",
       "<table border=\"1\" class=\"dataframe\">\n",
       "  <thead>\n",
       "    <tr style=\"text-align: right;\">\n",
       "      <th></th>\n",
       "      <th>Prenom</th>\n",
       "      <th>Nom</th>\n",
       "      <th>github name</th>\n",
       "      <th>Anniversaire</th>\n",
       "      <th>email</th>\n",
       "      <th>Animal totem</th>\n",
       "      <th>Thé ou Café</th>\n",
       "      <th>Fumeur</th>\n",
       "      <th>Couleur</th>\n",
       "      <th>H / F</th>\n",
       "      <th>...</th>\n",
       "      <th>Traduction artiste</th>\n",
       "      <th>Mon \"Martine\" préféré</th>\n",
       "      <th>série préférée</th>\n",
       "      <th>Sport pratiqué</th>\n",
       "      <th>sur une île déserte, j'emmène..</th>\n",
       "      <th>Film préféré</th>\n",
       "      <th>Année de naissance</th>\n",
       "      <th>note du BAC en maths</th>\n",
       "      <th>Taille (cm)</th>\n",
       "      <th>Taille de pied</th>\n",
       "    </tr>\n",
       "  </thead>\n",
       "  <tbody>\n",
       "    <tr>\n",
       "      <th>0</th>\n",
       "      <td>Jonathan</td>\n",
       "      <td>Serafini</td>\n",
       "      <td>Joz84</td>\n",
       "      <td>16/05/1984</td>\n",
       "      <td>NaN</td>\n",
       "      <td>Elephant</td>\n",
       "      <td>Thé</td>\n",
       "      <td>non</td>\n",
       "      <td>bleu</td>\n",
       "      <td>h</td>\n",
       "      <td>...</td>\n",
       "      <td>Riz dans l'eau</td>\n",
       "      <td>Jacqueline Martine</td>\n",
       "      <td>NaN</td>\n",
       "      <td>NaN</td>\n",
       "      <td>NaN</td>\n",
       "      <td>The Usual suspects</td>\n",
       "      <td>1984</td>\n",
       "      <td>NaN</td>\n",
       "      <td>190.0</td>\n",
       "      <td>46.0</td>\n",
       "    </tr>\n",
       "    <tr>\n",
       "      <th>1</th>\n",
       "      <td>Constance</td>\n",
       "      <td>Rogeon</td>\n",
       "      <td>ConstanceR33</td>\n",
       "      <td>16/09/1997</td>\n",
       "      <td>constance.rogeon40@gmail.com</td>\n",
       "      <td>Hibou</td>\n",
       "      <td>Café</td>\n",
       "      <td>oui</td>\n",
       "      <td>noir</td>\n",
       "      <td>f</td>\n",
       "      <td>...</td>\n",
       "      <td>dick</td>\n",
       "      <td>Martine en Rave Party</td>\n",
       "      <td>Friends</td>\n",
       "      <td>Headbang</td>\n",
       "      <td>Martine</td>\n",
       "      <td>Matrix</td>\n",
       "      <td>1997</td>\n",
       "      <td>10</td>\n",
       "      <td>167.5</td>\n",
       "      <td>38.5</td>\n",
       "    </tr>\n",
       "    <tr>\n",
       "      <th>2</th>\n",
       "      <td>Remy</td>\n",
       "      <td>Nowe</td>\n",
       "      <td>RemyNW</td>\n",
       "      <td>19/08/1995</td>\n",
       "      <td>nowe.remy@gmail.com</td>\n",
       "      <td>Belette</td>\n",
       "      <td>Café</td>\n",
       "      <td>oui</td>\n",
       "      <td>bleu</td>\n",
       "      <td>h</td>\n",
       "      <td>...</td>\n",
       "      <td>NoneType</td>\n",
       "      <td>Martine Arena</td>\n",
       "      <td>True Detective</td>\n",
       "      <td>Natation/badminton</td>\n",
       "      <td>Martine</td>\n",
       "      <td>Orange Mecanique</td>\n",
       "      <td>1995</td>\n",
       "      <td>15</td>\n",
       "      <td>188.0</td>\n",
       "      <td>46.0</td>\n",
       "    </tr>\n",
       "    <tr>\n",
       "      <th>3</th>\n",
       "      <td>Camille</td>\n",
       "      <td>Hoareau</td>\n",
       "      <td>Camille9999</td>\n",
       "      <td>22/02/1998</td>\n",
       "      <td>hoareau.camille.pro@gmail.com</td>\n",
       "      <td>Loup</td>\n",
       "      <td>Café</td>\n",
       "      <td>non</td>\n",
       "      <td>vert</td>\n",
       "      <td>h</td>\n",
       "      <td>...</td>\n",
       "      <td>Pastis d'eau Gallèn</td>\n",
       "      <td>Martine se fait introduire au BDSM</td>\n",
       "      <td>Severance</td>\n",
       "      <td>Sieste</td>\n",
       "      <td>Cyrus Smith</td>\n",
       "      <td>Pirates des Caraïbes : La Malédiction du Black...</td>\n",
       "      <td>1998</td>\n",
       "      <td>int((exp(sqrt(abs(-74.8)))/cos(-0.6)-9.5)/100)</td>\n",
       "      <td>175.0</td>\n",
       "      <td>43.0</td>\n",
       "    </tr>\n",
       "    <tr>\n",
       "      <th>4</th>\n",
       "      <td>Marie</td>\n",
       "      <td>Lizot</td>\n",
       "      <td>Skyspaper</td>\n",
       "      <td>25/11/1991</td>\n",
       "      <td>NaN</td>\n",
       "      <td>Elephant</td>\n",
       "      <td>Café et Thé</td>\n",
       "      <td>non</td>\n",
       "      <td>bleu</td>\n",
       "      <td>f</td>\n",
       "      <td>...</td>\n",
       "      <td>Pierres qui roulent...</td>\n",
       "      <td>Martine ne connait pas la fin de Seven 🔪🩸</td>\n",
       "      <td>Succession</td>\n",
       "      <td>Natation/Muscu</td>\n",
       "      <td>Un couteau</td>\n",
       "      <td>Le Silence des Agneaux</td>\n",
       "      <td>1991</td>\n",
       "      <td>10</td>\n",
       "      <td>158.5</td>\n",
       "      <td>37.5</td>\n",
       "    </tr>\n",
       "  </tbody>\n",
       "</table>\n",
       "<p>5 rows × 34 columns</p>\n",
       "</div>"
      ],
      "text/plain": [
       "      Prenom       Nom   github name Anniversaire  \\\n",
       "0   Jonathan  Serafini         Joz84   16/05/1984   \n",
       "1  Constance    Rogeon  ConstanceR33   16/09/1997   \n",
       "2       Remy      Nowe        RemyNW   19/08/1995   \n",
       "3    Camille   Hoareau   Camille9999   22/02/1998   \n",
       "4      Marie     Lizot     Skyspaper   25/11/1991   \n",
       "\n",
       "                           email Animal totem  Thé ou Café Fumeur Couleur  \\\n",
       "0                            NaN     Elephant          Thé    non    bleu   \n",
       "1   constance.rogeon40@gmail.com        Hibou         Café    oui    noir   \n",
       "2            nowe.remy@gmail.com      Belette         Café    oui    bleu   \n",
       "3  hoareau.camille.pro@gmail.com         Loup         Café    non    vert   \n",
       "4                            NaN     Elephant  Café et Thé    non    bleu   \n",
       "\n",
       "  H / F  ...      Traduction artiste  \\\n",
       "0     h  ...          Riz dans l'eau   \n",
       "1     f  ...                    dick   \n",
       "2     h  ...                NoneType   \n",
       "3     h  ...     Pastis d'eau Gallèn   \n",
       "4     f  ...  Pierres qui roulent...   \n",
       "\n",
       "                       Mon \"Martine\" préféré  série préférée  \\\n",
       "0                         Jacqueline Martine             NaN   \n",
       "1                      Martine en Rave Party         Friends   \n",
       "2                              Martine Arena  True Detective   \n",
       "3         Martine se fait introduire au BDSM       Severance   \n",
       "4  Martine ne connait pas la fin de Seven 🔪🩸      Succession   \n",
       "\n",
       "       Sport pratiqué sur une île déserte, j'emmène..  \\\n",
       "0                 NaN                             NaN   \n",
       "1            Headbang                         Martine   \n",
       "2  Natation/badminton                         Martine   \n",
       "3              Sieste                     Cyrus Smith   \n",
       "4      Natation/Muscu                     Un couteau    \n",
       "\n",
       "                                        Film préféré Année de naissance  \\\n",
       "0                                 The Usual suspects               1984   \n",
       "1                                             Matrix               1997   \n",
       "2                                   Orange Mecanique               1995   \n",
       "3  Pirates des Caraïbes : La Malédiction du Black...               1998   \n",
       "4                             Le Silence des Agneaux               1991   \n",
       "\n",
       "                             note du BAC en maths Taille (cm) Taille de pied  \n",
       "0                                             NaN       190.0           46.0  \n",
       "1                                              10       167.5           38.5  \n",
       "2                                              15       188.0           46.0  \n",
       "3  int((exp(sqrt(abs(-74.8)))/cos(-0.6)-9.5)/100)       175.0           43.0  \n",
       "4                                              10       158.5           37.5  \n",
       "\n",
       "[5 rows x 34 columns]"
      ]
     },
     "execution_count": 55,
     "metadata": {},
     "output_type": "execute_result"
    }
   ],
   "source": [
    "df.head()"
   ]
  },
  {
   "cell_type": "markdown",
   "id": "configured-picnic",
   "metadata": {},
   "source": [
    "## Distinction entre les objets de listing"
   ]
  },
  {
   "cell_type": "markdown",
   "id": "criminal-option",
   "metadata": {},
   "source": [
    "### Pandas Dataframe de 1 col"
   ]
  },
  {
   "cell_type": "code",
   "execution_count": 56,
   "id": "warming-coordinator",
   "metadata": {},
   "outputs": [
    {
     "data": {
      "text/html": [
       "<div>\n",
       "<style scoped>\n",
       "    .dataframe tbody tr th:only-of-type {\n",
       "        vertical-align: middle;\n",
       "    }\n",
       "\n",
       "    .dataframe tbody tr th {\n",
       "        vertical-align: top;\n",
       "    }\n",
       "\n",
       "    .dataframe thead th {\n",
       "        text-align: right;\n",
       "    }\n",
       "</style>\n",
       "<table border=\"1\" class=\"dataframe\">\n",
       "  <thead>\n",
       "    <tr style=\"text-align: right;\">\n",
       "      <th></th>\n",
       "      <th>Thé ou Café</th>\n",
       "    </tr>\n",
       "  </thead>\n",
       "  <tbody>\n",
       "    <tr>\n",
       "      <th>0</th>\n",
       "      <td>Thé</td>\n",
       "    </tr>\n",
       "    <tr>\n",
       "      <th>1</th>\n",
       "      <td>Café</td>\n",
       "    </tr>\n",
       "    <tr>\n",
       "      <th>2</th>\n",
       "      <td>Café</td>\n",
       "    </tr>\n",
       "    <tr>\n",
       "      <th>3</th>\n",
       "      <td>Café</td>\n",
       "    </tr>\n",
       "    <tr>\n",
       "      <th>4</th>\n",
       "      <td>Café et Thé</td>\n",
       "    </tr>\n",
       "    <tr>\n",
       "      <th>5</th>\n",
       "      <td>Thé</td>\n",
       "    </tr>\n",
       "    <tr>\n",
       "      <th>6</th>\n",
       "      <td>Thé</td>\n",
       "    </tr>\n",
       "    <tr>\n",
       "      <th>7</th>\n",
       "      <td>Thé</td>\n",
       "    </tr>\n",
       "    <tr>\n",
       "      <th>8</th>\n",
       "      <td>Café</td>\n",
       "    </tr>\n",
       "    <tr>\n",
       "      <th>9</th>\n",
       "      <td>Café</td>\n",
       "    </tr>\n",
       "    <tr>\n",
       "      <th>10</th>\n",
       "      <td>Café</td>\n",
       "    </tr>\n",
       "    <tr>\n",
       "      <th>11</th>\n",
       "      <td>Café</td>\n",
       "    </tr>\n",
       "    <tr>\n",
       "      <th>12</th>\n",
       "      <td>Café</td>\n",
       "    </tr>\n",
       "    <tr>\n",
       "      <th>13</th>\n",
       "      <td>Café et Thé</td>\n",
       "    </tr>\n",
       "    <tr>\n",
       "      <th>14</th>\n",
       "      <td>Café et Thé</td>\n",
       "    </tr>\n",
       "    <tr>\n",
       "      <th>15</th>\n",
       "      <td>Café</td>\n",
       "    </tr>\n",
       "    <tr>\n",
       "      <th>16</th>\n",
       "      <td>Thé</td>\n",
       "    </tr>\n",
       "    <tr>\n",
       "      <th>17</th>\n",
       "      <td>Café et Thé</td>\n",
       "    </tr>\n",
       "    <tr>\n",
       "      <th>18</th>\n",
       "      <td>Café</td>\n",
       "    </tr>\n",
       "    <tr>\n",
       "      <th>19</th>\n",
       "      <td>Café</td>\n",
       "    </tr>\n",
       "    <tr>\n",
       "      <th>20</th>\n",
       "      <td>Café</td>\n",
       "    </tr>\n",
       "    <tr>\n",
       "      <th>21</th>\n",
       "      <td>Café et Thé</td>\n",
       "    </tr>\n",
       "  </tbody>\n",
       "</table>\n",
       "</div>"
      ],
      "text/plain": [
       "    Thé ou Café\n",
       "0           Thé\n",
       "1          Café\n",
       "2          Café\n",
       "3          Café\n",
       "4   Café et Thé\n",
       "5           Thé\n",
       "6           Thé\n",
       "7           Thé\n",
       "8          Café\n",
       "9          Café\n",
       "10         Café\n",
       "11         Café\n",
       "12         Café\n",
       "13  Café et Thé\n",
       "14  Café et Thé\n",
       "15         Café\n",
       "16          Thé\n",
       "17  Café et Thé\n",
       "18         Café\n",
       "19         Café\n",
       "20         Café\n",
       "21  Café et Thé"
      ]
     },
     "execution_count": 56,
     "metadata": {},
     "output_type": "execute_result"
    }
   ],
   "source": [
    "df[['Thé ou Café']]"
   ]
  },
  {
   "cell_type": "markdown",
   "id": "deluxe-ghana",
   "metadata": {},
   "source": [
    "### Pandas série"
   ]
  },
  {
   "cell_type": "code",
   "execution_count": 57,
   "id": "junior-banks",
   "metadata": {},
   "outputs": [
    {
     "data": {
      "text/plain": [
       "0             Thé\n",
       "1            Café\n",
       "2            Café\n",
       "3            Café\n",
       "4     Café et Thé\n",
       "5             Thé\n",
       "6             Thé\n",
       "7             Thé\n",
       "8            Café\n",
       "9            Café\n",
       "10           Café\n",
       "11           Café\n",
       "12           Café\n",
       "13    Café et Thé\n",
       "14    Café et Thé\n",
       "15           Café\n",
       "16            Thé\n",
       "17    Café et Thé\n",
       "18           Café\n",
       "19           Café\n",
       "20           Café\n",
       "21    Café et Thé\n",
       "Name: Thé ou Café, dtype: object"
      ]
     },
     "execution_count": 57,
     "metadata": {},
     "output_type": "execute_result"
    }
   ],
   "source": [
    "df['Thé ou Café']"
   ]
  },
  {
   "cell_type": "markdown",
   "id": "atmospheric-christian",
   "metadata": {},
   "source": [
    "### Numpy Array"
   ]
  },
  {
   "cell_type": "code",
   "execution_count": 58,
   "id": "certain-abraham",
   "metadata": {},
   "outputs": [
    {
     "data": {
      "text/plain": [
       "array(['Thé', 'Café', 'Café', 'Café', 'Café et Thé', 'Thé', 'Thé', 'Thé',\n",
       "       'Café', 'Café', 'Café', 'Café', 'Café', 'Café et Thé',\n",
       "       'Café et Thé', 'Café', 'Thé', 'Café et Thé', 'Café', 'Café',\n",
       "       'Café', 'Café et Thé'], dtype=object)"
      ]
     },
     "execution_count": 58,
     "metadata": {},
     "output_type": "execute_result"
    }
   ],
   "source": [
    "np.array(df['Thé ou Café'])"
   ]
  },
  {
   "cell_type": "markdown",
   "id": "grave-cambridge",
   "metadata": {},
   "source": [
    "### List python"
   ]
  },
  {
   "cell_type": "code",
   "execution_count": 59,
   "id": "liked-treatment",
   "metadata": {
    "scrolled": true
   },
   "outputs": [
    {
     "data": {
      "text/plain": [
       "['Thé',\n",
       " 'Café',\n",
       " 'Café',\n",
       " 'Café',\n",
       " 'Café et Thé',\n",
       " 'Thé',\n",
       " 'Thé',\n",
       " 'Thé',\n",
       " 'Café',\n",
       " 'Café',\n",
       " 'Café',\n",
       " 'Café',\n",
       " 'Café',\n",
       " 'Café et Thé',\n",
       " 'Café et Thé',\n",
       " 'Café',\n",
       " 'Thé',\n",
       " 'Café et Thé',\n",
       " 'Café',\n",
       " 'Café',\n",
       " 'Café',\n",
       " 'Café et Thé']"
      ]
     },
     "execution_count": 59,
     "metadata": {},
     "output_type": "execute_result"
    }
   ],
   "source": [
    "df['Thé ou Café'].to_list()"
   ]
  },
  {
   "cell_type": "markdown",
   "id": "correct-bargain",
   "metadata": {},
   "source": [
    "## Plot de l'histogramme \"Thé ou Café\""
   ]
  },
  {
   "cell_type": "code",
   "execution_count": 61,
   "id": "purple-academy",
   "metadata": {},
   "outputs": [
    {
     "data": {
      "text/plain": [
       "(array([ 5.,  0.,  0.,  0.,  0., 12.,  0.,  0.,  0.,  5.]),\n",
       " array([0. , 0.2, 0.4, 0.6, 0.8, 1. , 1.2, 1.4, 1.6, 1.8, 2. ]),\n",
       " <BarContainer object of 10 artists>)"
      ]
     },
     "execution_count": 61,
     "metadata": {},
     "output_type": "execute_result"
    },
    {
     "data": {
      "image/png": "[encoded data removed]",
      "text/plain": [
       "<Figure size 432x288 with 1 Axes>"
      ]
     },
     "metadata": {
      "needs_background": "light"
     },
     "output_type": "display_data"
    }
   ],
   "source": [
    "plt.figure()\n",
    "plt.hist(df[['Thé ou Café']])"
   ]
  },
  {
   "cell_type": "markdown",
   "id": "subject-oklahoma",
   "metadata": {},
   "source": [
    "## Plot de l'hitorgamme \"Thé ou Café\" en fonction du genre \"H /F\""
   ]
  },
  {
   "cell_type": "markdown",
   "id": "cutting-studio",
   "metadata": {},
   "source": [
    "### Choix du graph à adapter"
   ]
  },
  {
   "cell_type": "code",
   "execution_count": 62,
   "id": "elementary-council",
   "metadata": {},
   "outputs": [
    {
     "data": {
      "text/plain": [
       "<matplotlib.legend.Legend at 0x16204c430>"
      ]
     },
     "execution_count": 62,
     "metadata": {},
     "output_type": "execute_result"
    },
    {
     "data": {
      "image/png": "[encoded data removed]",
      "text/plain": [
       "<Figure size 432x288 with 1 Axes>"
      ]
     },
     "metadata": {
      "needs_background": "light"
     },
     "output_type": "display_data"
    }
   ],
   "source": [
    "\n",
    "labels = df_new['Thé ou Café'].unique()\n",
    "men_means = [2, 11, 2]\n",
    "women_means = [3, 1, 3]\n",
    "\n",
    "x = np.arange(len(labels))  # the label locations\n",
    "width = 0.35  # the width of the bars\n",
    "\n",
    "#fig, ax = plt.subplots()\n",
    "rects1 = plt.bar(x - width/2, men_means, width, label='Men')\n",
    "rects2 = plt.bar(x + width/2, women_means, width, label='Women')\n",
    "\n",
    "\n",
    "\n",
    "# Add some text for labels, title and custom x-axis tick labels, etc.\n",
    "#plt.set_ylabel('Scores')\n",
    "plt.title('Scores by group and gender')\n",
    "#plt.set_xticks(x, labels)\n",
    "plt.legend()\n",
    "\n",
    "\n",
    "#fig.tight_layout()\n",
    "\n",
    "#plt.show()\n",
    "#print(x)"
   ]
  },
  {
   "cell_type": "markdown",
   "id": "excellent-funds",
   "metadata": {},
   "source": [
    "### Sélection des colonnes"
   ]
  },
  {
   "cell_type": "code",
   "execution_count": 63,
   "id": "searching-insider",
   "metadata": {},
   "outputs": [
    {
     "data": {
      "text/html": [
       "<div>\n",
       "<style scoped>\n",
       "    .dataframe tbody tr th:only-of-type {\n",
       "        vertical-align: middle;\n",
       "    }\n",
       "\n",
       "    .dataframe tbody tr th {\n",
       "        vertical-align: top;\n",
       "    }\n",
       "\n",
       "    .dataframe thead th {\n",
       "        text-align: right;\n",
       "    }\n",
       "</style>\n",
       "<table border=\"1\" class=\"dataframe\">\n",
       "  <thead>\n",
       "    <tr style=\"text-align: right;\">\n",
       "      <th></th>\n",
       "      <th>Thé ou Café</th>\n",
       "      <th>H / F</th>\n",
       "      <th>Prenom</th>\n",
       "    </tr>\n",
       "  </thead>\n",
       "  <tbody>\n",
       "    <tr>\n",
       "      <th>0</th>\n",
       "      <td>Thé</td>\n",
       "      <td>h</td>\n",
       "      <td>Jonathan</td>\n",
       "    </tr>\n",
       "    <tr>\n",
       "      <th>1</th>\n",
       "      <td>Café</td>\n",
       "      <td>f</td>\n",
       "      <td>Constance</td>\n",
       "    </tr>\n",
       "    <tr>\n",
       "      <th>2</th>\n",
       "      <td>Café</td>\n",
       "      <td>h</td>\n",
       "      <td>Remy</td>\n",
       "    </tr>\n",
       "    <tr>\n",
       "      <th>3</th>\n",
       "      <td>Café</td>\n",
       "      <td>h</td>\n",
       "      <td>Camille</td>\n",
       "    </tr>\n",
       "    <tr>\n",
       "      <th>4</th>\n",
       "      <td>Café et Thé</td>\n",
       "      <td>f</td>\n",
       "      <td>Marie</td>\n",
       "    </tr>\n",
       "    <tr>\n",
       "      <th>5</th>\n",
       "      <td>Thé</td>\n",
       "      <td>h</td>\n",
       "      <td>Django</td>\n",
       "    </tr>\n",
       "    <tr>\n",
       "      <th>6</th>\n",
       "      <td>Thé</td>\n",
       "      <td>f</td>\n",
       "      <td>Louise</td>\n",
       "    </tr>\n",
       "    <tr>\n",
       "      <th>7</th>\n",
       "      <td>Thé</td>\n",
       "      <td>f</td>\n",
       "      <td>Lauriane</td>\n",
       "    </tr>\n",
       "    <tr>\n",
       "      <th>8</th>\n",
       "      <td>Café</td>\n",
       "      <td>h</td>\n",
       "      <td>Michaël</td>\n",
       "    </tr>\n",
       "    <tr>\n",
       "      <th>9</th>\n",
       "      <td>Café</td>\n",
       "      <td>h</td>\n",
       "      <td>Hadi</td>\n",
       "    </tr>\n",
       "    <tr>\n",
       "      <th>10</th>\n",
       "      <td>Café</td>\n",
       "      <td>h</td>\n",
       "      <td>Matthieu</td>\n",
       "    </tr>\n",
       "    <tr>\n",
       "      <th>11</th>\n",
       "      <td>Café</td>\n",
       "      <td>h</td>\n",
       "      <td>Thomas</td>\n",
       "    </tr>\n",
       "    <tr>\n",
       "      <th>12</th>\n",
       "      <td>Café</td>\n",
       "      <td>h</td>\n",
       "      <td>Quentin</td>\n",
       "    </tr>\n",
       "    <tr>\n",
       "      <th>13</th>\n",
       "      <td>Café et Thé</td>\n",
       "      <td>f</td>\n",
       "      <td>Esperance</td>\n",
       "    </tr>\n",
       "    <tr>\n",
       "      <th>14</th>\n",
       "      <td>Café et Thé</td>\n",
       "      <td>h</td>\n",
       "      <td>Mathieu</td>\n",
       "    </tr>\n",
       "    <tr>\n",
       "      <th>15</th>\n",
       "      <td>Café</td>\n",
       "      <td>h</td>\n",
       "      <td>Laurendi</td>\n",
       "    </tr>\n",
       "    <tr>\n",
       "      <th>16</th>\n",
       "      <td>Thé</td>\n",
       "      <td>f</td>\n",
       "      <td>Nariné</td>\n",
       "    </tr>\n",
       "    <tr>\n",
       "      <th>17</th>\n",
       "      <td>Café et Thé</td>\n",
       "      <td>f</td>\n",
       "      <td>Leona</td>\n",
       "    </tr>\n",
       "    <tr>\n",
       "      <th>18</th>\n",
       "      <td>Café</td>\n",
       "      <td>h</td>\n",
       "      <td>Jerome</td>\n",
       "    </tr>\n",
       "    <tr>\n",
       "      <th>19</th>\n",
       "      <td>Café</td>\n",
       "      <td>h</td>\n",
       "      <td>Hemon</td>\n",
       "    </tr>\n",
       "    <tr>\n",
       "      <th>20</th>\n",
       "      <td>Café</td>\n",
       "      <td>h</td>\n",
       "      <td>Hugues</td>\n",
       "    </tr>\n",
       "    <tr>\n",
       "      <th>21</th>\n",
       "      <td>Café et Thé</td>\n",
       "      <td>h</td>\n",
       "      <td>Chouki</td>\n",
       "    </tr>\n",
       "  </tbody>\n",
       "</table>\n",
       "</div>"
      ],
      "text/plain": [
       "    Thé ou Café H / F     Prenom\n",
       "0           Thé     h   Jonathan\n",
       "1          Café     f  Constance\n",
       "2          Café     h       Remy\n",
       "3          Café     h    Camille\n",
       "4   Café et Thé     f      Marie\n",
       "5           Thé     h     Django\n",
       "6           Thé     f     Louise\n",
       "7           Thé     f   Lauriane\n",
       "8          Café     h    Michaël\n",
       "9          Café     h       Hadi\n",
       "10         Café     h   Matthieu\n",
       "11         Café     h     Thomas\n",
       "12         Café     h    Quentin\n",
       "13  Café et Thé     f  Esperance\n",
       "14  Café et Thé     h    Mathieu\n",
       "15         Café     h   Laurendi\n",
       "16          Thé     f     Nariné\n",
       "17  Café et Thé     f      Leona\n",
       "18         Café     h     Jerome\n",
       "19         Café     h      Hemon\n",
       "20         Café     h     Hugues\n",
       "21  Café et Thé     h     Chouki"
      ]
     },
     "execution_count": 63,
     "metadata": {},
     "output_type": "execute_result"
    }
   ],
   "source": [
    "df_new = df[['Thé ou Café', 'H / F','Prenom']]\n",
    "df_new"
   ]
  },
  {
   "cell_type": "code",
   "execution_count": 64,
   "id": "communist-sarah",
   "metadata": {},
   "outputs": [
    {
     "data": {
      "text/plain": [
       "numpy.ndarray"
      ]
     },
     "execution_count": 64,
     "metadata": {},
     "output_type": "execute_result"
    }
   ],
   "source": [
    "type(df_new['Thé ou Café'].unique())"
   ]
  },
  {
   "cell_type": "markdown",
   "id": "biblical-opposition",
   "metadata": {},
   "source": [
    "### Tests groupby"
   ]
  },
  {
   "cell_type": "code",
   "execution_count": 65,
   "id": "superior-productivity",
   "metadata": {},
   "outputs": [
    {
     "data": {
      "text/html": [
       "<div>\n",
       "<style scoped>\n",
       "    .dataframe tbody tr th:only-of-type {\n",
       "        vertical-align: middle;\n",
       "    }\n",
       "\n",
       "    .dataframe tbody tr th {\n",
       "        vertical-align: top;\n",
       "    }\n",
       "\n",
       "    .dataframe thead th {\n",
       "        text-align: right;\n",
       "    }\n",
       "</style>\n",
       "<table border=\"1\" class=\"dataframe\">\n",
       "  <thead>\n",
       "    <tr style=\"text-align: right;\">\n",
       "      <th></th>\n",
       "      <th>Thé ou Café</th>\n",
       "      <th>Prenom</th>\n",
       "    </tr>\n",
       "    <tr>\n",
       "      <th>H / F</th>\n",
       "      <th></th>\n",
       "      <th></th>\n",
       "    </tr>\n",
       "  </thead>\n",
       "  <tbody>\n",
       "    <tr>\n",
       "      <th>f</th>\n",
       "      <td>7</td>\n",
       "      <td>7</td>\n",
       "    </tr>\n",
       "    <tr>\n",
       "      <th>h</th>\n",
       "      <td>15</td>\n",
       "      <td>15</td>\n",
       "    </tr>\n",
       "  </tbody>\n",
       "</table>\n",
       "</div>"
      ],
      "text/plain": [
       "       Thé ou Café  Prenom\n",
       "H / F                     \n",
       "f                7       7\n",
       "h               15      15"
      ]
     },
     "execution_count": 65,
     "metadata": {},
     "output_type": "execute_result"
    }
   ],
   "source": [
    "df_new.groupby(['H / F']).count()"
   ]
  },
  {
   "cell_type": "code",
   "execution_count": 66,
   "id": "synthetic-budget",
   "metadata": {},
   "outputs": [
    {
     "data": {
      "text/html": [
       "<div>\n",
       "<style scoped>\n",
       "    .dataframe tbody tr th:only-of-type {\n",
       "        vertical-align: middle;\n",
       "    }\n",
       "\n",
       "    .dataframe tbody tr th {\n",
       "        vertical-align: top;\n",
       "    }\n",
       "\n",
       "    .dataframe thead th {\n",
       "        text-align: right;\n",
       "    }\n",
       "</style>\n",
       "<table border=\"1\" class=\"dataframe\">\n",
       "  <thead>\n",
       "    <tr style=\"text-align: right;\">\n",
       "      <th></th>\n",
       "      <th>H / F</th>\n",
       "      <th>Prenom</th>\n",
       "    </tr>\n",
       "    <tr>\n",
       "      <th>Thé ou Café</th>\n",
       "      <th></th>\n",
       "      <th></th>\n",
       "    </tr>\n",
       "  </thead>\n",
       "  <tbody>\n",
       "    <tr>\n",
       "      <th>Café</th>\n",
       "      <td>12</td>\n",
       "      <td>12</td>\n",
       "    </tr>\n",
       "    <tr>\n",
       "      <th>Café et Thé</th>\n",
       "      <td>5</td>\n",
       "      <td>5</td>\n",
       "    </tr>\n",
       "    <tr>\n",
       "      <th>Thé</th>\n",
       "      <td>5</td>\n",
       "      <td>5</td>\n",
       "    </tr>\n",
       "  </tbody>\n",
       "</table>\n",
       "</div>"
      ],
      "text/plain": [
       "             H / F  Prenom\n",
       "Thé ou Café               \n",
       "Café            12      12\n",
       "Café et Thé      5       5\n",
       "Thé              5       5"
      ]
     },
     "execution_count": 66,
     "metadata": {},
     "output_type": "execute_result"
    }
   ],
   "source": [
    "df_new.groupby(['Thé ou Café']).count()"
   ]
  },
  {
   "cell_type": "code",
   "execution_count": 80,
   "id": "exotic-astrology",
   "metadata": {},
   "outputs": [
    {
     "data": {
      "text/html": [
       "<div>\n",
       "<style scoped>\n",
       "    .dataframe tbody tr th:only-of-type {\n",
       "        vertical-align: middle;\n",
       "    }\n",
       "\n",
       "    .dataframe tbody tr th {\n",
       "        vertical-align: top;\n",
       "    }\n",
       "\n",
       "    .dataframe thead th {\n",
       "        text-align: right;\n",
       "    }\n",
       "</style>\n",
       "<table border=\"1\" class=\"dataframe\">\n",
       "  <thead>\n",
       "    <tr style=\"text-align: right;\">\n",
       "      <th></th>\n",
       "      <th></th>\n",
       "      <th>Prenom</th>\n",
       "    </tr>\n",
       "    <tr>\n",
       "      <th>Thé ou Café</th>\n",
       "      <th>H / F</th>\n",
       "      <th></th>\n",
       "    </tr>\n",
       "  </thead>\n",
       "  <tbody>\n",
       "    <tr>\n",
       "      <th rowspan=\"2\" valign=\"top\">Café</th>\n",
       "      <th>f</th>\n",
       "      <td>1</td>\n",
       "    </tr>\n",
       "    <tr>\n",
       "      <th>h</th>\n",
       "      <td>11</td>\n",
       "    </tr>\n",
       "    <tr>\n",
       "      <th rowspan=\"2\" valign=\"top\">Café et Thé</th>\n",
       "      <th>f</th>\n",
       "      <td>3</td>\n",
       "    </tr>\n",
       "    <tr>\n",
       "      <th>h</th>\n",
       "      <td>2</td>\n",
       "    </tr>\n",
       "    <tr>\n",
       "      <th rowspan=\"2\" valign=\"top\">Thé</th>\n",
       "      <th>f</th>\n",
       "      <td>3</td>\n",
       "    </tr>\n",
       "    <tr>\n",
       "      <th>h</th>\n",
       "      <td>2</td>\n",
       "    </tr>\n",
       "  </tbody>\n",
       "</table>\n",
       "</div>"
      ],
      "text/plain": [
       "                   Prenom\n",
       "Thé ou Café H / F        \n",
       "Café        f           1\n",
       "            h          11\n",
       "Café et Thé f           3\n",
       "            h           2\n",
       "Thé         f           3\n",
       "            h           2"
      ]
     },
     "execution_count": 80,
     "metadata": {},
     "output_type": "execute_result"
    }
   ],
   "source": [
    "df1 = df_new.groupby(['Thé ou Café', 'H / F']).count()\n",
    "df1\n"
   ]
  },
  {
   "cell_type": "code",
   "execution_count": 107,
   "id": "recorded-vector",
   "metadata": {},
   "outputs": [
    {
     "data": {
      "text/html": [
       "<div>\n",
       "<style scoped>\n",
       "    .dataframe tbody tr th:only-of-type {\n",
       "        vertical-align: middle;\n",
       "    }\n",
       "\n",
       "    .dataframe tbody tr th {\n",
       "        vertical-align: top;\n",
       "    }\n",
       "\n",
       "    .dataframe thead tr th {\n",
       "        text-align: left;\n",
       "    }\n",
       "\n",
       "    .dataframe thead tr:last-of-type th {\n",
       "        text-align: right;\n",
       "    }\n",
       "</style>\n",
       "<table border=\"1\" class=\"dataframe\">\n",
       "  <thead>\n",
       "    <tr>\n",
       "      <th></th>\n",
       "      <th colspan=\"2\" halign=\"left\">Prenom</th>\n",
       "    </tr>\n",
       "    <tr>\n",
       "      <th>H / F</th>\n",
       "      <th>f</th>\n",
       "      <th>h</th>\n",
       "    </tr>\n",
       "    <tr>\n",
       "      <th>Thé ou Café</th>\n",
       "      <th></th>\n",
       "      <th></th>\n",
       "    </tr>\n",
       "  </thead>\n",
       "  <tbody>\n",
       "    <tr>\n",
       "      <th>Café</th>\n",
       "      <td>1</td>\n",
       "      <td>11</td>\n",
       "    </tr>\n",
       "    <tr>\n",
       "      <th>Café et Thé</th>\n",
       "      <td>3</td>\n",
       "      <td>2</td>\n",
       "    </tr>\n",
       "    <tr>\n",
       "      <th>Thé</th>\n",
       "      <td>3</td>\n",
       "      <td>2</td>\n",
       "    </tr>\n",
       "  </tbody>\n",
       "</table>\n",
       "</div>"
      ],
      "text/plain": [
       "            Prenom    \n",
       "H / F            f   h\n",
       "Thé ou Café           \n",
       "Café             1  11\n",
       "Café et Thé      3   2\n",
       "Thé              3   2"
      ]
     },
     "execution_count": 107,
     "metadata": {},
     "output_type": "execute_result"
    }
   ],
   "source": [
    "df3 = df1.unstack()\n",
    "df3"
   ]
  },
  {
   "cell_type": "code",
   "execution_count": 108,
   "id": "specific-validation",
   "metadata": {},
   "outputs": [
    {
     "data": {
      "text/html": [
       "<div>\n",
       "<style scoped>\n",
       "    .dataframe tbody tr th:only-of-type {\n",
       "        vertical-align: middle;\n",
       "    }\n",
       "\n",
       "    .dataframe tbody tr th {\n",
       "        vertical-align: top;\n",
       "    }\n",
       "\n",
       "    .dataframe thead th {\n",
       "        text-align: right;\n",
       "    }\n",
       "</style>\n",
       "<table border=\"1\" class=\"dataframe\">\n",
       "  <thead>\n",
       "    <tr style=\"text-align: right;\">\n",
       "      <th></th>\n",
       "      <th></th>\n",
       "      <th>Prenom</th>\n",
       "    </tr>\n",
       "    <tr>\n",
       "      <th>Thé ou Café</th>\n",
       "      <th>H / F</th>\n",
       "      <th></th>\n",
       "    </tr>\n",
       "  </thead>\n",
       "  <tbody>\n",
       "    <tr>\n",
       "      <th rowspan=\"2\" valign=\"top\">Café</th>\n",
       "      <th>f</th>\n",
       "      <td>1</td>\n",
       "    </tr>\n",
       "    <tr>\n",
       "      <th>h</th>\n",
       "      <td>11</td>\n",
       "    </tr>\n",
       "    <tr>\n",
       "      <th rowspan=\"2\" valign=\"top\">Café et Thé</th>\n",
       "      <th>f</th>\n",
       "      <td>3</td>\n",
       "    </tr>\n",
       "    <tr>\n",
       "      <th>h</th>\n",
       "      <td>2</td>\n",
       "    </tr>\n",
       "    <tr>\n",
       "      <th rowspan=\"2\" valign=\"top\">Thé</th>\n",
       "      <th>f</th>\n",
       "      <td>3</td>\n",
       "    </tr>\n",
       "    <tr>\n",
       "      <th>h</th>\n",
       "      <td>2</td>\n",
       "    </tr>\n",
       "  </tbody>\n",
       "</table>\n",
       "</div>"
      ],
      "text/plain": [
       "                   Prenom\n",
       "Thé ou Café H / F        \n",
       "Café        f           1\n",
       "            h          11\n",
       "Café et Thé f           3\n",
       "            h           2\n",
       "Thé         f           3\n",
       "            h           2"
      ]
     },
     "execution_count": 108,
     "metadata": {},
     "output_type": "execute_result"
    }
   ],
   "source": [
    "df3.stack()"
   ]
  },
  {
   "cell_type": "code",
   "execution_count": null,
   "id": "random-roads",
   "metadata": {},
   "outputs": [],
   "source": [
    "df1.unstack()[('Prenom', 'f')].to_list()"
   ]
  },
  {
   "cell_type": "code",
   "execution_count": 81,
   "id": "confident-treasure",
   "metadata": {},
   "outputs": [
    {
     "data": {
      "text/html": [
       "<div>\n",
       "<style scoped>\n",
       "    .dataframe tbody tr th:only-of-type {\n",
       "        vertical-align: middle;\n",
       "    }\n",
       "\n",
       "    .dataframe tbody tr th {\n",
       "        vertical-align: top;\n",
       "    }\n",
       "\n",
       "    .dataframe thead th {\n",
       "        text-align: right;\n",
       "    }\n",
       "</style>\n",
       "<table border=\"1\" class=\"dataframe\">\n",
       "  <thead>\n",
       "    <tr style=\"text-align: right;\">\n",
       "      <th></th>\n",
       "      <th>Thé ou Café</th>\n",
       "      <th>H / F</th>\n",
       "      <th>Prenom</th>\n",
       "    </tr>\n",
       "  </thead>\n",
       "  <tbody>\n",
       "    <tr>\n",
       "      <th>0</th>\n",
       "      <td>Café</td>\n",
       "      <td>f</td>\n",
       "      <td>1</td>\n",
       "    </tr>\n",
       "    <tr>\n",
       "      <th>1</th>\n",
       "      <td>Café</td>\n",
       "      <td>h</td>\n",
       "      <td>11</td>\n",
       "    </tr>\n",
       "    <tr>\n",
       "      <th>2</th>\n",
       "      <td>Café et Thé</td>\n",
       "      <td>f</td>\n",
       "      <td>3</td>\n",
       "    </tr>\n",
       "    <tr>\n",
       "      <th>3</th>\n",
       "      <td>Café et Thé</td>\n",
       "      <td>h</td>\n",
       "      <td>2</td>\n",
       "    </tr>\n",
       "    <tr>\n",
       "      <th>4</th>\n",
       "      <td>Thé</td>\n",
       "      <td>f</td>\n",
       "      <td>3</td>\n",
       "    </tr>\n",
       "    <tr>\n",
       "      <th>5</th>\n",
       "      <td>Thé</td>\n",
       "      <td>h</td>\n",
       "      <td>2</td>\n",
       "    </tr>\n",
       "  </tbody>\n",
       "</table>\n",
       "</div>"
      ],
      "text/plain": [
       "   Thé ou Café H / F  Prenom\n",
       "0         Café     f       1\n",
       "1         Café     h      11\n",
       "2  Café et Thé     f       3\n",
       "3  Café et Thé     h       2\n",
       "4          Thé     f       3\n",
       "5          Thé     h       2"
      ]
     },
     "execution_count": 81,
     "metadata": {},
     "output_type": "execute_result"
    }
   ],
   "source": [
    "df2 = df_new.groupby(['Thé ou Café', 'H / F'], as_index=False).count()\n",
    "df2"
   ]
  },
  {
   "cell_type": "markdown",
   "id": "swedish-framework",
   "metadata": {},
   "source": [
    "### Formatage final des donnée"
   ]
  },
  {
   "cell_type": "code",
   "execution_count": 96,
   "id": "impaired-google",
   "metadata": {},
   "outputs": [
    {
     "data": {
      "text/plain": [
       "[1, 3, 3]"
      ]
     },
     "execution_count": 96,
     "metadata": {},
     "output_type": "execute_result"
    }
   ],
   "source": [
    "df2[df2['H / F'] == 'f']['Prenom'].to_list()"
   ]
  },
  {
   "cell_type": "code",
   "execution_count": 97,
   "id": "friendly-medicare",
   "metadata": {},
   "outputs": [
    {
     "data": {
      "text/plain": [
       "<matplotlib.legend.Legend at 0x162169cd0>"
      ]
     },
     "execution_count": 97,
     "metadata": {},
     "output_type": "execute_result"
    },
    {
     "data": {
      "image/png": "[encoded data removed]",
      "text/plain": [
       "<Figure size 432x288 with 1 Axes>"
      ]
     },
     "metadata": {
      "needs_background": "light"
     },
     "output_type": "display_data"
    }
   ],
   "source": [
    "labels = df2[df2['H / F'] == 'h']['Thé ou Café'].to_list()\n",
    "men_means = df2[df2['H / F'] == 'h']['Prenom'].to_list()\n",
    "women_means = df2[df2['H / F'] == 'f']['Prenom'].to_list()\n",
    "\n",
    "x = np.arange(len(labels))  # the label locations\n",
    "width = 0.35  # the width of the bars\n",
    "\n",
    "#fig, ax = plt.subplots()\n",
    "rects1 = plt.bar(x - width/2, men_means, width, label='Men')\n",
    "rects2 = plt.bar(x + width/2, women_means, width, label='Women')\n",
    "\n",
    "\n",
    "\n",
    "# Add some text for labels, title and custom x-axis tick labels, etc.\n",
    "#plt.set_ylabel('Scores')\n",
    "plt.title('Scores by group and gender')\n",
    "#plt.set_xticks(x, labels)\n",
    "plt.legend()\n"
   ]
  },
  {
   "cell_type": "code",
   "execution_count": null,
   "id": "exotic-aaron",
   "metadata": {},
   "outputs": [],
   "source": []
  }
 ],
 "metadata": {
  "kernelspec": {
   "display_name": "Python 3",
   "language": "python",
   "name": "python3"
  },
  "language_info": {
   "codemirror_mode": {
    "name": "ipython",
    "version": 3
   },
   "file_extension": ".py",
   "mimetype": "text/x-python",
   "name": "python",
   "nbconvert_exporter": "python",
   "pygments_lexer": "ipython3",
   "version": "3.8.6"
  },
  "toc": {
   "base_numbering": 1,
   "nav_menu": {},
   "number_sections": true,
   "sideBar": true,
   "skip_h1_title": false,
   "title_cell": "Table of Contents",
   "title_sidebar": "Contents",
   "toc_cell": false,
   "toc_position": {},
   "toc_section_display": true,
   "toc_window_display": false
  }
 },
 "nbformat": 4,
 "nbformat_minor": 5
}
