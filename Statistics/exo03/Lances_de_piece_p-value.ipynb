{
 "cells": [
  {
   "cell_type": "markdown",
   "id": "exotic-technique",
   "metadata": {},
   "source": [
    "# Lancés de pièce"
   ]
  },
  {
   "cell_type": "code",
   "execution_count": 1,
   "id": "under-howard",
   "metadata": {},
   "outputs": [],
   "source": [
    "import pandas as pd\n",
    "import matplotlib.pyplot as plt\n",
    "import numpy as np\n",
    "from scipy.stats import norm\n",
    "import matplotlib.lines as lines"
   ]
  },
  {
   "cell_type": "code",
   "execution_count": 2,
   "id": "abandoned-nursery",
   "metadata": {},
   "outputs": [],
   "source": [
    "df = pd.read_csv(\"akinatorIA3F3.csv\")\n",
    "dftot = pd.DataFrame(df[df.columns[1:]].stack())"
   ]
  },
  {
   "cell_type": "code",
   "execution_count": 3,
   "id": "demanding-residence",
   "metadata": {
    "scrolled": true
   },
   "outputs": [
    {
     "name": "stdout",
     "output_type": "stream",
     "text": [
      "<class 'pandas.core.frame.DataFrame'>\n",
      "RangeIndex: 30 entries, 0 to 29\n",
      "Data columns (total 8 columns):\n",
      " #   Column    Non-Null Count  Dtype  \n",
      "---  ------    --------------  -----  \n",
      " 0             30 non-null     object \n",
      " 1   Groupe 1  30 non-null     float64\n",
      " 2   Groupe 2  30 non-null     float64\n",
      " 3   Groupe 3  30 non-null     float64\n",
      " 4   Groupe 4  30 non-null     float64\n",
      " 5   Groupe 5  30 non-null     int64  \n",
      " 6   Groupe 6  30 non-null     float64\n",
      " 7   Groupe 7  30 non-null     float64\n",
      "dtypes: float64(6), int64(1), object(1)\n",
      "memory usage: 2.0+ KB\n"
     ]
    }
   ],
   "source": [
    "df.info()"
   ]
  },
  {
   "cell_type": "code",
   "execution_count": 4,
   "id": "juvenile-hindu",
   "metadata": {},
   "outputs": [
    {
     "data": {
      "text/html": [
       "<div>\n",
       "<style scoped>\n",
       "    .dataframe tbody tr th:only-of-type {\n",
       "        vertical-align: middle;\n",
       "    }\n",
       "\n",
       "    .dataframe tbody tr th {\n",
       "        vertical-align: top;\n",
       "    }\n",
       "\n",
       "    .dataframe thead th {\n",
       "        text-align: right;\n",
       "    }\n",
       "</style>\n",
       "<table border=\"1\" class=\"dataframe\">\n",
       "  <thead>\n",
       "    <tr style=\"text-align: right;\">\n",
       "      <th></th>\n",
       "      <th></th>\n",
       "      <th>0</th>\n",
       "    </tr>\n",
       "  </thead>\n",
       "  <tbody>\n",
       "    <tr>\n",
       "      <th rowspan=\"5\" valign=\"top\">0</th>\n",
       "      <th>Groupe 1</th>\n",
       "      <td>-51.0</td>\n",
       "    </tr>\n",
       "    <tr>\n",
       "      <th>Groupe 2</th>\n",
       "      <td>30.0</td>\n",
       "    </tr>\n",
       "    <tr>\n",
       "      <th>Groupe 3</th>\n",
       "      <td>20.0</td>\n",
       "    </tr>\n",
       "    <tr>\n",
       "      <th>Groupe 4</th>\n",
       "      <td>0.0</td>\n",
       "    </tr>\n",
       "    <tr>\n",
       "      <th>Groupe 5</th>\n",
       "      <td>23.0</td>\n",
       "    </tr>\n",
       "    <tr>\n",
       "      <th>...</th>\n",
       "      <th>...</th>\n",
       "      <td>...</td>\n",
       "    </tr>\n",
       "    <tr>\n",
       "      <th rowspan=\"5\" valign=\"top\">29</th>\n",
       "      <th>Groupe 3</th>\n",
       "      <td>-29.0</td>\n",
       "    </tr>\n",
       "    <tr>\n",
       "      <th>Groupe 4</th>\n",
       "      <td>50.0</td>\n",
       "    </tr>\n",
       "    <tr>\n",
       "      <th>Groupe 5</th>\n",
       "      <td>10.0</td>\n",
       "    </tr>\n",
       "    <tr>\n",
       "      <th>Groupe 6</th>\n",
       "      <td>-51.5</td>\n",
       "    </tr>\n",
       "    <tr>\n",
       "      <th>Groupe 7</th>\n",
       "      <td>-5.5</td>\n",
       "    </tr>\n",
       "  </tbody>\n",
       "</table>\n",
       "<p>210 rows × 1 columns</p>\n",
       "</div>"
      ],
      "text/plain": [
       "                0\n",
       "0  Groupe 1 -51.0\n",
       "   Groupe 2  30.0\n",
       "   Groupe 3  20.0\n",
       "   Groupe 4   0.0\n",
       "   Groupe 5  23.0\n",
       "...           ...\n",
       "29 Groupe 3 -29.0\n",
       "   Groupe 4  50.0\n",
       "   Groupe 5  10.0\n",
       "   Groupe 6 -51.5\n",
       "   Groupe 7  -5.5\n",
       "\n",
       "[210 rows x 1 columns]"
      ]
     },
     "execution_count": 4,
     "metadata": {},
     "output_type": "execute_result"
    }
   ],
   "source": [
    "dftot"
   ]
  },
  {
   "cell_type": "code",
   "execution_count": 5,
   "id": "crazy-bidder",
   "metadata": {},
   "outputs": [],
   "source": [
    "dftot = pd.DataFrame(dftot[0].astype(\"str\").str.replace(\",\", \".\").astype(\"float\")).rename(columns={0: \"Distance\"})"
   ]
  },
  {
   "cell_type": "code",
   "execution_count": 6,
   "id": "super-humidity",
   "metadata": {},
   "outputs": [],
   "source": [
    "pop = dftot[\"Distance\"]"
   ]
  },
  {
   "cell_type": "markdown",
   "id": "differential-corpus",
   "metadata": {},
   "source": [
    "## La distribution de 210 mesures à 3m"
   ]
  },
  {
   "cell_type": "code",
   "execution_count": 7,
   "id": "documentary-terrorism",
   "metadata": {
    "scrolled": true
   },
   "outputs": [
    {
     "data": {
      "text/plain": [
       "[<matplotlib.lines.Line2D at 0x7f58e3966cd0>]"
      ]
     },
     "execution_count": 7,
     "metadata": {},
     "output_type": "execute_result"
    },
    {
     "data": {
      "image/png": "[encoded data removed]",
      "text/plain": [
       "<Figure size 432x288 with 1 Axes>"
      ]
     },
     "metadata": {
      "needs_background": "light"
     },
     "output_type": "display_data"
    }
   ],
   "source": [
    "N = len(pop)\n",
    "num_bins = 20\n",
    "plt.hist(pop, bins=num_bins)\n",
    "\n",
    "x = np.linspace(-200, 200, 100)\n",
    "bin_width = (pop.max() - pop.min()) / num_bins\n",
    "p = norm.pdf(x, pop.mean(), pop.std())* N * bin_width\n",
    "plt.plot(x, p, 'k', linewidth=2)"
   ]
  },
  {
   "cell_type": "markdown",
   "id": "given-graham",
   "metadata": {},
   "source": [
    "## La densité de probabilité"
   ]
  },
  {
   "cell_type": "code",
   "execution_count": 8,
   "id": "continent-double",
   "metadata": {
    "scrolled": false
   },
   "outputs": [
    {
     "data": {
      "text/plain": [
       "[<matplotlib.lines.Line2D at 0x7f58db82cac0>]"
      ]
     },
     "execution_count": 8,
     "metadata": {},
     "output_type": "execute_result"
    },
    {
     "data": {
      "image/png": "[encoded data removed]",
      "text/plain": [
       "<Figure size 432x288 with 1 Axes>"
      ]
     },
     "metadata": {
      "needs_background": "light"
     },
     "output_type": "display_data"
    }
   ],
   "source": [
    "N = len(pop)\n",
    "num_bins = 20\n",
    "#plt.hist(pop, bins=num_bins)\n",
    "\n",
    "x = np.linspace(-200, 200, 100)\n",
    "bin_width = (pop.max() - pop.min()) / num_bins\n",
    "p = norm.pdf(x, pop.mean(), pop.std()) #* N * bin_width\n",
    "plt.plot(x, p, 'k', linewidth=2)\n",
    "plt.plot([-50,-50],[0, np.max(p)])\n",
    "plt.plot([50,50],[0, np.max(p)])"
   ]
  },
  {
   "cell_type": "markdown",
   "id": "nonprofit-nashville",
   "metadata": {},
   "source": [
    "## La probabilité cumulée"
   ]
  },
  {
   "cell_type": "code",
   "execution_count": 9,
   "id": "preliminary-vatican",
   "metadata": {
    "scrolled": true
   },
   "outputs": [
    {
     "data": {
      "text/plain": [
       "[<matplotlib.lines.Line2D at 0x7f58db7b15b0>]"
      ]
     },
     "execution_count": 9,
     "metadata": {},
     "output_type": "execute_result"
    },
    {
     "data": {
      "image/png": "[encoded data removed]",
      "text/plain": [
       "<Figure size 432x288 with 1 Axes>"
      ]
     },
     "metadata": {
      "needs_background": "light"
     },
     "output_type": "display_data"
    }
   ],
   "source": [
    "N = len(pop)\n",
    "num_bins = 20\n",
    "#plt.hist(pop, bins=num_bins)\n",
    "\n",
    "x = np.linspace(-200, 200, 100)\n",
    "bin_width = (pop.max() - pop.min()) / num_bins\n",
    "p = norm.cdf(x, pop.mean(), pop.std()) #* N * bin_width\n",
    "plt.plot(x, p, 'k', linewidth=2)\n",
    "plt.plot([-50,-50],[0, np.max(p)])\n",
    "plt.plot([50,50],[0, np.max(p)])"
   ]
  },
  {
   "cell_type": "markdown",
   "id": "informational-crown",
   "metadata": {},
   "source": [
    "Probabilité que ma mesure soit < -50cm"
   ]
  },
  {
   "cell_type": "code",
   "execution_count": 10,
   "id": "cathedral-fault",
   "metadata": {},
   "outputs": [],
   "source": [
    "pmin = norm(pop.mean(), pop.std()).cdf(-50)"
   ]
  },
  {
   "cell_type": "markdown",
   "id": "israeli-harris",
   "metadata": {},
   "source": [
    "Probabilité que ma mesure soit < 50cm"
   ]
  },
  {
   "cell_type": "code",
   "execution_count": 11,
   "id": "connected-credits",
   "metadata": {
    "scrolled": true
   },
   "outputs": [],
   "source": [
    "pmax = norm(pop.mean(), pop.std()).cdf(50)"
   ]
  },
  {
   "cell_type": "markdown",
   "id": "velvet-momentum",
   "metadata": {},
   "source": [
    "Probabilité que ma mesure soit > -50cm et < 50cm"
   ]
  },
  {
   "cell_type": "code",
   "execution_count": 12,
   "id": "caring-provider",
   "metadata": {},
   "outputs": [
    {
     "data": {
      "text/plain": [
       "0.630120454184887"
      ]
     },
     "execution_count": 12,
     "metadata": {},
     "output_type": "execute_result"
    }
   ],
   "source": [
    "pmax - pmin"
   ]
  },
  {
   "cell_type": "markdown",
   "id": "apart-chamber",
   "metadata": {},
   "source": [
    "Probabilité que ma mesure soit > 50cm"
   ]
  },
  {
   "cell_type": "code",
   "execution_count": 13,
   "id": "humanitarian-perfume",
   "metadata": {},
   "outputs": [
    {
     "data": {
      "text/plain": [
       "0.2039379008080877"
      ]
     },
     "execution_count": 13,
     "metadata": {},
     "output_type": "execute_result"
    }
   ],
   "source": [
    "1 - pmax"
   ]
  },
  {
   "cell_type": "markdown",
   "id": "bearing-genius",
   "metadata": {},
   "source": [
    "La mesure seuil correspondant à une probabilité de 30%"
   ]
  },
  {
   "cell_type": "code",
   "execution_count": 14,
   "id": "multiple-addiction",
   "metadata": {},
   "outputs": [
    {
     "data": {
      "text/plain": [
       "-25.19824061586955"
      ]
     },
     "execution_count": 14,
     "metadata": {},
     "output_type": "execute_result"
    }
   ],
   "source": [
    "norm(pop.mean(), pop.std()).ppf(0.3)"
   ]
  },
  {
   "cell_type": "markdown",
   "id": "greatest-collins",
   "metadata": {},
   "source": [
    "## Les grandeurs stats de la population à 3m."
   ]
  },
  {
   "cell_type": "code",
   "execution_count": 15,
   "id": "biological-closing",
   "metadata": {},
   "outputs": [
    {
     "data": {
      "text/plain": [
       "55.61843504566346"
      ]
     },
     "execution_count": 15,
     "metadata": {},
     "output_type": "execute_result"
    }
   ],
   "source": [
    "sigma = dftot[\"Distance\"].std()\n",
    "sigma"
   ]
  },
  {
   "cell_type": "code",
   "execution_count": 16,
   "id": "broadband-study",
   "metadata": {},
   "outputs": [
    {
     "data": {
      "text/plain": [
       "3.8380366489532154"
      ]
     },
     "execution_count": 16,
     "metadata": {},
     "output_type": "execute_result"
    }
   ],
   "source": [
    "ste = dftot[\"Distance\"].std() / np.sqrt(210)\n",
    "ste"
   ]
  },
  {
   "cell_type": "code",
   "execution_count": 17,
   "id": "encouraging-arrival",
   "metadata": {},
   "outputs": [
    {
     "data": {
      "text/plain": [
       "3.9680952380952377"
      ]
     },
     "execution_count": 17,
     "metadata": {},
     "output_type": "execute_result"
    }
   ],
   "source": [
    "mean = dftot[\"Distance\"].mean()\n",
    "mean"
   ]
  },
  {
   "cell_type": "markdown",
   "id": "suburban-catering",
   "metadata": {},
   "source": [
    "## P-Value"
   ]
  },
  {
   "cell_type": "markdown",
   "id": "casual-lottery",
   "metadata": {},
   "source": [
    "### Démarche pour invalider une hypothèse nulle H0"
   ]
  },
  {
   "cell_type": "markdown",
   "id": "smooth-replica",
   "metadata": {},
   "source": [
    "- Ha : Vous êtes moins précis pour jeter un pièce exactement à 10m, plutôt qu'a 3m.\n",
    "- Mise en place de l'expérience: Vous lancez tous 2 pièces à 10m.\n",
    "- Moyenne des lancés qui est de 25cm.\n",
    "- N = 42"
   ]
  },
  {
   "cell_type": "markdown",
   "id": "demanding-sally",
   "metadata": {},
   "source": [
    "H0 : Vous êtes aussi précis peut importe la distance."
   ]
  },
  {
   "cell_type": "markdown",
   "id": "eligible-fruit",
   "metadata": {},
   "source": [
    "Si H0 est vérifiée:\n",
    "- La moyenne devrait être de 3.96cm\n",
    "- L'écart type devrait être de 55.6cm.\n",
    "- L'erreur standard est de 8.58cm."
   ]
  },
  {
   "cell_type": "code",
   "execution_count": 18,
   "id": "theoretical-thesaurus",
   "metadata": {},
   "outputs": [],
   "source": [
    "ste = sigma / np.sqrt(42)"
   ]
  },
  {
   "cell_type": "code",
   "execution_count": 19,
   "id": "impressive-japanese",
   "metadata": {
    "scrolled": true
   },
   "outputs": [
    {
     "data": {
      "text/plain": [
       "[<matplotlib.lines.Line2D at 0x7f58db71d6d0>]"
      ]
     },
     "execution_count": 19,
     "metadata": {},
     "output_type": "execute_result"
    },
    {
     "data": {
      "image/png": "[encoded data removed]",
      "text/plain": [
       "<Figure size 432x288 with 1 Axes>"
      ]
     },
     "metadata": {
      "needs_background": "light"
     },
     "output_type": "display_data"
    }
   ],
   "source": [
    "N = 42\n",
    "num_bins = 20\n",
    "#plt.hist(pop, bins=num_bins)\n",
    "\n",
    "x = np.linspace(-40, 40, 100)\n",
    "p = norm.pdf(x, mean, sigma / np.sqrt(42)) #* N * bin_width\n",
    "plt.plot(x, p, 'k', linewidth=2)\n",
    "plt.plot([25,25],[0, np.max(p)])\n",
    "#plt.plot([50,50],[0, np.max(p)])"
   ]
  },
  {
   "cell_type": "code",
   "execution_count": 20,
   "id": "a2e77f85",
   "metadata": {},
   "outputs": [
    {
     "data": {
      "text/plain": [
       "-10.14822091581285"
      ]
     },
     "execution_count": 20,
     "metadata": {},
     "output_type": "execute_result"
    }
   ],
   "source": [
    "norm(mean,ste).ppf(0.95)\n",
    "norm(mean,ste).ppf(0.05)"
   ]
  },
  {
   "cell_type": "code",
   "execution_count": 21,
   "id": "permanent-arthur",
   "metadata": {},
   "outputs": [
    {
     "data": {
      "text/plain": [
       "[<matplotlib.lines.Line2D at 0x7f58db688580>]"
      ]
     },
     "execution_count": 21,
     "metadata": {},
     "output_type": "execute_result"
    },
    {
     "data": {
      "image/png": "[encoded data removed]",
      "text/plain": [
       "<Figure size 432x288 with 1 Axes>"
      ]
     },
     "metadata": {
      "needs_background": "light"
     },
     "output_type": "display_data"
    }
   ],
   "source": [
    "N = 42\n",
    "num_bins = 20\n",
    "#plt.hist(pop, bins=num_bins)\n",
    "\n",
    "x = np.linspace(-40, 40, 100)\n",
    "p = norm.cdf(x, mean, sigma / np.sqrt(42)) #* N * bin_width\n",
    "plt.plot(x, p, 'k', linewidth=2)\n",
    "plt.plot([25,25],[0, np.max(p)])\n",
    "#plt.plot([50,50],[0, np.max(p)])"
   ]
  },
  {
   "cell_type": "code",
   "execution_count": 22,
   "id": "united-exposure",
   "metadata": {},
   "outputs": [
    {
     "data": {
      "text/plain": [
       "0.7129569445270767"
      ]
     },
     "execution_count": 22,
     "metadata": {},
     "output_type": "execute_result"
    }
   ],
   "source": [
    "(1 - norm(mean, sigma / np.sqrt(42)).cdf(25)) * 100"
   ]
  },
  {
   "cell_type": "markdown",
   "id": "blond-great",
   "metadata": {},
   "source": [
    "Probabilité de trouver la mesure 25cm si l'H0 est de 0,7%.\n",
    "0,7% est appelée __p-value__"
   ]
  },
  {
   "cell_type": "markdown",
   "id": "working-purple",
   "metadata": {},
   "source": [
    "Pour un seuil à alpha 5% on ne peut pas rejeter l'hypothèse nulle. Donc on ne peut pas prouver que changer la distance impacte le resultat dans cet exemple"
   ]
  },
  {
   "cell_type": "markdown",
   "id": "accessible-mediterranean",
   "metadata": {},
   "source": [
    "## Votre tour : Calculer la p-value"
   ]
  },
  {
   "cell_type": "markdown",
   "id": "adult-sterling",
   "metadata": {},
   "source": [
    "- Calculer les p-value pour les mesures faites à 1m, 2m, 4m, 5m, 6m\n",
    "- Tracer l'évolution de la p-value en fonction de la distance\n",
    "- Optionnel: Si les points semblent suivre une tendance. Définir cette tendance et en déduire à partir de quel distance on ne peut plus reje"
   ]
  },
  {
   "cell_type": "markdown",
   "id": "committed-softball",
   "metadata": {},
   "source": []
  }
 ],
 "metadata": {
  "kernelspec": {
   "display_name": "Python 3.8.12 64-bit ('shims')",
   "language": "python",
   "name": "python3"
  },
  "language_info": {
   "codemirror_mode": {
    "name": "ipython",
    "version": 3
   },
   "file_extension": ".py",
   "mimetype": "text/x-python",
   "name": "python",
   "nbconvert_exporter": "python",
   "pygments_lexer": "ipython3",
   "version": "3.8.12"
  },
  "toc": {
   "base_numbering": 1,
   "nav_menu": {},
   "number_sections": true,
   "sideBar": true,
   "skip_h1_title": false,
   "title_cell": "Table of Contents",
   "title_sidebar": "Contents",
   "toc_cell": false,
   "toc_position": {},
   "toc_section_display": true,
   "toc_window_display": false
  },
  "vscode": {
   "interpreter": {
    "hash": "e588d92b224e11b16adbbadd39936dea13a6488171770263a646fc57f44563d8"
   }
  }
 },
 "nbformat": 4,
 "nbformat_minor": 5
}
