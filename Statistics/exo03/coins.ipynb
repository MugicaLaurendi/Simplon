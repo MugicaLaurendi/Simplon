{
 "cells": [
  {
   "cell_type": "markdown",
   "metadata": {},
   "source": [
    "- Calculer les p-value pour les mesures faites à 1m, 2m, 4m, 5m, 6m\n",
    "- Tracer l'évolution de la p-value en fonction de la distance\n",
    "- Optionnel: Si les points semblent suivre une tendance. Définir cette tendance et en déduire à partir de quel distance on ne peut plus reje"
   ]
  },
  {
   "cell_type": "code",
   "execution_count": 17,
   "metadata": {},
   "outputs": [
    {
     "data": {
      "text/html": [
       "<div>\n",
       "<style scoped>\n",
       "    .dataframe tbody tr th:only-of-type {\n",
       "        vertical-align: middle;\n",
       "    }\n",
       "\n",
       "    .dataframe tbody tr th {\n",
       "        vertical-align: top;\n",
       "    }\n",
       "\n",
       "    .dataframe thead th {\n",
       "        text-align: right;\n",
       "    }\n",
       "</style>\n",
       "<table border=\"1\" class=\"dataframe\">\n",
       "  <thead>\n",
       "    <tr style=\"text-align: right;\">\n",
       "      <th></th>\n",
       "      <th>Distance(m)</th>\n",
       "      <th>Groupe 1</th>\n",
       "      <th>Unnamed: 2</th>\n",
       "      <th>Unnamed: 3</th>\n",
       "      <th>Unnamed: 4</th>\n",
       "      <th>Unnamed: 5</th>\n",
       "      <th>Unnamed: 6</th>\n",
       "      <th>Groupe 2</th>\n",
       "      <th>Unnamed: 8</th>\n",
       "      <th>Unnamed: 9</th>\n",
       "      <th>...</th>\n",
       "      <th>Unnamed: 33</th>\n",
       "      <th>Unnamed: 34</th>\n",
       "      <th>Unnamed: 35</th>\n",
       "      <th>Unnamed: 36</th>\n",
       "      <th>Groupe 7</th>\n",
       "      <th>Unnamed: 38</th>\n",
       "      <th>Unnamed: 39</th>\n",
       "      <th>Unnamed: 40</th>\n",
       "      <th>Unnamed: 41</th>\n",
       "      <th>Unnamed: 42</th>\n",
       "    </tr>\n",
       "  </thead>\n",
       "  <tbody>\n",
       "    <tr>\n",
       "      <th>0</th>\n",
       "      <td>NaN</td>\n",
       "      <td>Lancer 1</td>\n",
       "      <td>Lancer 2</td>\n",
       "      <td>Lancer 3</td>\n",
       "      <td>Lancer 4</td>\n",
       "      <td>Lancer 5</td>\n",
       "      <td>Lancer 6</td>\n",
       "      <td>Lancer 1</td>\n",
       "      <td>Lancer 2</td>\n",
       "      <td>Lancer 3</td>\n",
       "      <td>...</td>\n",
       "      <td>Lancer 3</td>\n",
       "      <td>Lancer 4</td>\n",
       "      <td>Lancer 5</td>\n",
       "      <td>Lancer 6</td>\n",
       "      <td>Lancer 1</td>\n",
       "      <td>Lancer 2</td>\n",
       "      <td>Lancer 3</td>\n",
       "      <td>Lancer 4</td>\n",
       "      <td>Lancer 5</td>\n",
       "      <td>Lancer 6</td>\n",
       "    </tr>\n",
       "    <tr>\n",
       "      <th>1</th>\n",
       "      <td>1.0</td>\n",
       "      <td>-25</td>\n",
       "      <td>18</td>\n",
       "      <td>12</td>\n",
       "      <td>-11</td>\n",
       "      <td>1.5</td>\n",
       "      <td>12</td>\n",
       "      <td>-53</td>\n",
       "      <td>43</td>\n",
       "      <td>-50</td>\n",
       "      <td>...</td>\n",
       "      <td>-16</td>\n",
       "      <td>46</td>\n",
       "      <td>18</td>\n",
       "      <td>27</td>\n",
       "      <td>-10</td>\n",
       "      <td>-12.5</td>\n",
       "      <td>-19.5</td>\n",
       "      <td>24</td>\n",
       "      <td>-9</td>\n",
       "      <td>39</td>\n",
       "    </tr>\n",
       "    <tr>\n",
       "      <th>2</th>\n",
       "      <td>2.0</td>\n",
       "      <td>-3</td>\n",
       "      <td>7</td>\n",
       "      <td>42</td>\n",
       "      <td>-5</td>\n",
       "      <td>-12</td>\n",
       "      <td>-62</td>\n",
       "      <td>-28</td>\n",
       "      <td>11</td>\n",
       "      <td>-13</td>\n",
       "      <td>...</td>\n",
       "      <td>19</td>\n",
       "      <td>-24</td>\n",
       "      <td>10</td>\n",
       "      <td>-6</td>\n",
       "      <td>-24.2</td>\n",
       "      <td>11</td>\n",
       "      <td>-3</td>\n",
       "      <td>-22</td>\n",
       "      <td>-0.5</td>\n",
       "      <td>7.5</td>\n",
       "    </tr>\n",
       "    <tr>\n",
       "      <th>3</th>\n",
       "      <td>4.0</td>\n",
       "      <td>-25.5</td>\n",
       "      <td>12</td>\n",
       "      <td>36.5</td>\n",
       "      <td>-36</td>\n",
       "      <td>-52</td>\n",
       "      <td>24.5</td>\n",
       "      <td>-7</td>\n",
       "      <td>-6</td>\n",
       "      <td>-22</td>\n",
       "      <td>...</td>\n",
       "      <td>-89</td>\n",
       "      <td>-48</td>\n",
       "      <td>170</td>\n",
       "      <td>-57</td>\n",
       "      <td>-10</td>\n",
       "      <td>-13</td>\n",
       "      <td>-17</td>\n",
       "      <td>-51.5</td>\n",
       "      <td>112</td>\n",
       "      <td>34</td>\n",
       "    </tr>\n",
       "    <tr>\n",
       "      <th>4</th>\n",
       "      <td>5.0</td>\n",
       "      <td>-78</td>\n",
       "      <td>-37</td>\n",
       "      <td>66</td>\n",
       "      <td>-84.5</td>\n",
       "      <td>-38</td>\n",
       "      <td>61.5</td>\n",
       "      <td>0</td>\n",
       "      <td>44</td>\n",
       "      <td>0</td>\n",
       "      <td>...</td>\n",
       "      <td>-20</td>\n",
       "      <td>64</td>\n",
       "      <td>500</td>\n",
       "      <td>22</td>\n",
       "      <td>-73.5</td>\n",
       "      <td>-45</td>\n",
       "      <td>-97.5</td>\n",
       "      <td>90</td>\n",
       "      <td>-47.5</td>\n",
       "      <td>-117.5</td>\n",
       "    </tr>\n",
       "    <tr>\n",
       "      <th>5</th>\n",
       "      <td>6.0</td>\n",
       "      <td>-32.5</td>\n",
       "      <td>-270</td>\n",
       "      <td>-24.5</td>\n",
       "      <td>19.5</td>\n",
       "      <td>-24</td>\n",
       "      <td>-80.5</td>\n",
       "      <td>-44</td>\n",
       "      <td>-50</td>\n",
       "      <td>-24</td>\n",
       "      <td>...</td>\n",
       "      <td>32</td>\n",
       "      <td>57</td>\n",
       "      <td>235</td>\n",
       "      <td>-39</td>\n",
       "      <td>-88</td>\n",
       "      <td>-194.5</td>\n",
       "      <td>-16.5</td>\n",
       "      <td>-130</td>\n",
       "      <td>-85.5</td>\n",
       "      <td>53</td>\n",
       "    </tr>\n",
       "  </tbody>\n",
       "</table>\n",
       "<p>6 rows × 43 columns</p>\n",
       "</div>"
      ],
      "text/plain": [
       "   Distance(m)  Groupe 1 Unnamed: 2 Unnamed: 3 Unnamed: 4 Unnamed: 5  \\\n",
       "0          NaN  Lancer 1   Lancer 2   Lancer 3   Lancer 4   Lancer 5   \n",
       "1          1.0       -25         18         12        -11        1.5   \n",
       "2          2.0        -3          7         42         -5        -12   \n",
       "3          4.0     -25.5         12       36.5        -36        -52   \n",
       "4          5.0       -78        -37         66      -84.5        -38   \n",
       "5          6.0     -32.5       -270      -24.5       19.5        -24   \n",
       "\n",
       "  Unnamed: 6  Groupe 2 Unnamed: 8 Unnamed: 9  ... Unnamed: 33 Unnamed: 34  \\\n",
       "0   Lancer 6  Lancer 1   Lancer 2   Lancer 3  ...    Lancer 3    Lancer 4   \n",
       "1         12       -53         43        -50  ...         -16          46   \n",
       "2        -62       -28         11        -13  ...          19         -24   \n",
       "3       24.5        -7         -6        -22  ...         -89         -48   \n",
       "4       61.5         0         44          0  ...         -20          64   \n",
       "5      -80.5       -44        -50        -24  ...          32          57   \n",
       "\n",
       "  Unnamed: 35 Unnamed: 36  Groupe 7 Unnamed: 38 Unnamed: 39 Unnamed: 40  \\\n",
       "0    Lancer 5    Lancer 6  Lancer 1    Lancer 2    Lancer 3    Lancer 4   \n",
       "1          18          27       -10       -12.5       -19.5          24   \n",
       "2          10          -6     -24.2          11          -3         -22   \n",
       "3         170         -57       -10         -13         -17       -51.5   \n",
       "4         500          22     -73.5         -45       -97.5          90   \n",
       "5         235         -39       -88      -194.5       -16.5        -130   \n",
       "\n",
       "  Unnamed: 41 Unnamed: 42  \n",
       "0    Lancer 5    Lancer 6  \n",
       "1          -9          39  \n",
       "2        -0.5         7.5  \n",
       "3         112          34  \n",
       "4       -47.5      -117.5  \n",
       "5       -85.5          53  \n",
       "\n",
       "[6 rows x 43 columns]"
      ]
     },
     "execution_count": 17,
     "metadata": {},
     "output_type": "execute_result"
    }
   ],
   "source": [
    "import pandas as pd\n",
    "import matplotlib.pyplot as plt\n",
    "import numpy as np\n",
    "from scipy.stats import norm\n",
    "import matplotlib.lines as lines\n",
    "\n",
    "df = pd.read_csv('coins.csv')\n",
    "df"
   ]
  },
  {
   "cell_type": "code",
   "execution_count": 18,
   "metadata": {},
   "outputs": [
    {
     "data": {
      "text/plain": [
       "{'1_meter': array([-25. ,  18. ,  12. , -11. ,   1.5,  12. , -53. ,  43. , -50. ,\n",
       "          0.5,  55. , -15. ,  21. ,  22. ,  62. ,   6.5, -13. , -30. ,\n",
       "        -27. ,  31. ,  -7. ,   7. ,   6. ,   5. ,  17. ,  45. ,   8. ,\n",
       "         10. ,  -6. , -23. , -44. ,  54. , -16. ,  46. ,  18. ,  27. ,\n",
       "        -10. , -12.5, -19.5,  24. ,  -9. ,  39. ]),\n",
       " '2_meter': array([ -3. ,   7. ,  42. ,  -5. , -12. , -62. , -28. ,  11. , -13. ,\n",
       "          0. ,  24. ,  -1. ,  11. ,   5. ,  -6. ,  31. , -24. ,  -2. ,\n",
       "        -49. ,  50. ,  -2. , -58. , -17. ,  53. ,   4. , -15. ,  10. ,\n",
       "         45. , -21. , -60. ,  -2. , -13. ,  19. , -24. ,  10. ,  -6. ,\n",
       "        -24.2,  11. ,  -3. , -22. ,  -0.5,   7.5]),\n",
       " '4_meter': array([-25.5,  12. ,  36.5, -36. , -52. ,  24.5,  -7. ,  -6. , -22. ,\n",
       "        -36. ,  15. , -75. , 150. ,  49. , -18. ,  58. ,  43.5,  26.5,\n",
       "        100. , -95. ,  21. ,  76. ,  43. ,  51. ,  37.5, -94. ,  23. ,\n",
       "        168. , -26. , -81. ,  38. , -62. , -89. , -48. , 170. , -57. ,\n",
       "        -10. , -13. , -17. , -51.5, 112. ,  34. ]),\n",
       " '5_meter': array([ -78. ,  -37. ,   66. ,  -84.5,  -38. ,   61.5,    0. ,   44. ,\n",
       "           0. ,  -21.5,   42. ,  -35. ,  523.5,  -77.5,  -48. ,  -56. ,\n",
       "           4. ,  626. ,   17. ,   91. ,   49. ,   66. ,   59. ,  121. ,\n",
       "         -17. ,   68. ,    5. ,   -7. ,   47. ,  -35. ,    3. ,  -37. ,\n",
       "         -20. ,   64. ,  500. ,   22. ,  -73.5,  -45. ,  -97.5,   90. ,\n",
       "         -47.5, -117.5]),\n",
       " '6_meter': array([ -32.5, -270. ,  -24.5,   19.5,  -24. ,  -80.5,  -44. ,  -50. ,\n",
       "         -24. ,   73. ,   70. ,  -32. ,  136.5,  -95.5,  -57.5, -102. ,\n",
       "        -130. ,  -32. ,  -80. ,  -35. ,   14. ,  133. ,  -77. ,  304. ,\n",
       "         125. ,  -87. , -180. ,  210. ,    0. ,   60. ,  300. ,   60. ,\n",
       "          32. ,   57. ,  235. ,  -39. ,  -88. , -194.5,  -16.5, -130. ,\n",
       "         -85.5,   53. ])}"
      ]
     },
     "execution_count": 18,
     "metadata": {},
     "output_type": "execute_result"
    }
   ],
   "source": [
    "throws = {}\n",
    "for i in range(1,6) :\n",
    "    x = np.array(df.loc[i].astype(float))[1:]\n",
    "    if i > 2 :\n",
    "        throws[f'{i+1}_meter'] = x\n",
    "    else :\n",
    "        throws[f'{i}_meter'] = x\n",
    "throws"
   ]
  },
  {
   "cell_type": "code",
   "execution_count": 19,
   "metadata": {},
   "outputs": [
    {
     "data": {
      "image/png": "[encoded data removed]",
      "text/plain": [
       "<Figure size 432x288 with 1 Axes>"
      ]
     },
     "metadata": {
      "needs_background": "light"
     },
     "output_type": "display_data"
    },
    {
     "data": {
      "image/png": "[encoded data removed]",
      "text/plain": [
       "<Figure size 432x288 with 1 Axes>"
      ]
     },
     "metadata": {
      "needs_background": "light"
     },
     "output_type": "display_data"
    },
    {
     "data": {
      "image/png": "[encoded data removed]",
      "text/plain": [
       "<Figure size 432x288 with 1 Axes>"
      ]
     },
     "metadata": {
      "needs_background": "light"
     },
     "output_type": "display_data"
    },
    {
     "data": {
      "image/png": "[encoded data removed]",
      "text/plain": [
       "<Figure size 432x288 with 1 Axes>"
      ]
     },
     "metadata": {
      "needs_background": "light"
     },
     "output_type": "display_data"
    },
    {
     "data": {
      "image/png": "[encoded data removed]",
      "text/plain": [
       "<Figure size 432x288 with 1 Axes>"
      ]
     },
     "metadata": {
      "needs_background": "light"
     },
     "output_type": "display_data"
    }
   ],
   "source": [
    "for i in throws :\n",
    "    plt.hist(throws[i], bins=10)\n",
    "    plt.show()"
   ]
  },
  {
   "cell_type": "code",
   "execution_count": 20,
   "metadata": {},
   "outputs": [
    {
     "name": "stdout",
     "output_type": "stream",
     "text": [
      "{'1_meter': 5.226190476190476, '2_meter': -3.1476190476190475, '4_meter': 8.75, '5_meter': 38.01190476190476, '6_meter': -3.0714285714285716}\n"
     ]
    }
   ],
   "source": [
    "means = {}\n",
    "for i in throws :\n",
    "    means[i] = throws[i].mean()\n",
    "print(means)"
   ]
  },
  {
   "cell_type": "code",
   "execution_count": 21,
   "metadata": {},
   "outputs": [
    {
     "name": "stdout",
     "output_type": "stream",
     "text": [
      "{'1_meter': 27.81105518043918, '2_meter': 26.308166739402587, '4_meter': 65.9917247698167, '5_meter': 153.18765678608045, '6_meter': 120.70056275900349}\n"
     ]
    }
   ],
   "source": [
    "stds = {}\n",
    "for i in throws :\n",
    "    stds[i] = throws[i].std()\n",
    "print(stds)"
   ]
  },
  {
   "cell_type": "code",
   "execution_count": 22,
   "metadata": {},
   "outputs": [
    {
     "data": {
      "image/png": "[encoded data removed]",
      "text/plain": [
       "<Figure size 432x288 with 1 Axes>"
      ]
     },
     "metadata": {
      "needs_background": "light"
     },
     "output_type": "display_data"
    },
    {
     "data": {
      "image/png": "[encoded data removed]",
      "text/plain": [
       "<Figure size 432x288 with 1 Axes>"
      ]
     },
     "metadata": {
      "needs_background": "light"
     },
     "output_type": "display_data"
    },
    {
     "data": {
      "image/png": "[encoded data removed]",
      "text/plain": [
       "<Figure size 432x288 with 1 Axes>"
      ]
     },
     "metadata": {
      "needs_background": "light"
     },
     "output_type": "display_data"
    },
    {
     "data": {
      "image/png": "[encoded data removed]",
      "text/plain": [
       "<Figure size 432x288 with 1 Axes>"
      ]
     },
     "metadata": {
      "needs_background": "light"
     },
     "output_type": "display_data"
    },
    {
     "data": {
      "image/png": "[encoded data removed]",
      "text/plain": [
       "<Figure size 432x288 with 1 Axes>"
      ]
     },
     "metadata": {
      "needs_background": "light"
     },
     "output_type": "display_data"
    }
   ],
   "source": [
    "for i in throws :\n",
    "    plt.boxplot(throws[i])\n",
    "    plt.show()"
   ]
  },
  {
   "cell_type": "code",
   "execution_count": 23,
   "metadata": {},
   "outputs": [
    {
     "data": {
      "image/png": "[encoded data removed]",
      "text/plain": [
       "<Figure size 432x288 with 1 Axes>"
      ]
     },
     "metadata": {
      "needs_background": "light"
     },
     "output_type": "display_data"
    }
   ],
   "source": [
    "l = []\n",
    "for i in throws :\n",
    "    l.append(throws[i])\n",
    "\n",
    "plt.boxplot(l)\n",
    "plt.show()"
   ]
  }
 ],
 "metadata": {
  "kernelspec": {
   "display_name": "Python 3.8.12 64-bit ('shims')",
   "language": "python",
   "name": "python3"
  },
  "language_info": {
   "codemirror_mode": {
    "name": "ipython",
    "version": 3
   },
   "file_extension": ".py",
   "mimetype": "text/x-python",
   "name": "python",
   "nbconvert_exporter": "python",
   "pygments_lexer": "ipython3",
   "version": "3.8.12"
  },
  "orig_nbformat": 4,
  "vscode": {
   "interpreter": {
    "hash": "e588d92b224e11b16adbbadd39936dea13a6488171770263a646fc57f44563d8"
   }
  }
 },
 "nbformat": 4,
 "nbformat_minor": 2
}
