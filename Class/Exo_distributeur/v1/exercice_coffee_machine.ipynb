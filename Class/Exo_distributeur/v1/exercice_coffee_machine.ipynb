{
 "cells": [
  {
   "cell_type": "markdown",
   "id": "271f13a1",
   "metadata": {},
   "source": [
    "<h1 style=\"text-align: center\">\n",
    "    Concevoir un logiciel de distributeur de cannette. \n",
    "</h1>\n",
    "\n",
    "\n",
    "**Le distributeur**\n",
    "* Le distributeur contient 100 cannettes.\n",
    "* Le distributeur contient 11,50 €.\n",
    "* Une cannette vaut 1,50 €.\n",
    "\n",
    "<hr>\n",
    "\n",
    "**Le consommateur**\n",
    "* Un consommateur peut acheter une cannette. Le stock diminue de 1. La trésorerie est également modifiée.\n",
    "* Le distributeur peut rendre la monnaie.\n",
    "\n",
    "<hr>\n",
    "\n",
    "**Le technicien**\n",
    "* Le technicien doit s’authentifier.\n",
    "* Le technicien peut afficher l’état du stock et de la trésorerie.\n",
    "* Le technicien peut ajouter des cannettes.\n",
    "* Le technicien peut vider la caisse.\n",
    "\n",
    "==> Persister la donnée dans un `csv` par exemple, et remodifier le code déjà effectué pour gérer la mécanique de sérialisation et de deserialisation :\n",
    "\n",
    "<img src=\"images/serialisation.png\" alt=\"schema sur la sérialisation et déserialisation\">"
   ]
  }
 ],
 "metadata": {
  "hide_input": false,
  "kernelspec": {
   "display_name": "Python 3 (ipykernel)",
   "language": "python",
   "name": "python3"
  },
  "language_info": {
   "codemirror_mode": {
    "name": "ipython",
    "version": 3
   },
   "file_extension": ".py",
   "mimetype": "text/x-python",
   "name": "python",
   "nbconvert_exporter": "python",
   "pygments_lexer": "ipython3",
   "version": "3.8.12"
  }
 },
 "nbformat": 4,
 "nbformat_minor": 5
}
