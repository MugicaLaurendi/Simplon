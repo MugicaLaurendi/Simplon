{
 "cells": [
  {
   "cell_type": "markdown",
   "id": "robust-meeting",
   "metadata": {},
   "source": [
    "# Weather Time Series"
   ]
  },
  {
   "cell_type": "markdown",
   "id": "supported-imaging",
   "metadata": {},
   "source": [
    "## Imports and Load CSV Data"
   ]
  },
  {
   "cell_type": "code",
   "execution_count": 2,
   "id": "engaged-cocktail",
   "metadata": {},
   "outputs": [],
   "source": [
    "%load_ext autoreload\n",
    "%autoreload 2\n",
    "import os\n",
    "import pandas as pd\n",
    "import matplotlib.pyplot as plt\n",
    "from statsmodels.tsa.seasonal import seasonal_decompose\n",
    "import numpy as np\n",
    "from datetime import date, timedelta\n",
    "from sklearn.impute import SimpleImputer\n",
    "import scipy.optimize as op\n",
    "from statsmodels.tsa.stattools import adfuller\n",
    "from statsmodels.graphics.tsaplots import plot_acf\n",
    "from statsmodels.graphics.tsaplots import plot_pacf\n",
    "from pmdarima.arima.utils import ndiffs\n",
    "from statsmodels.tsa.arima_model import ARIMA\n",
    "import pmdarima as pm\n",
    "from numpy import fft"
   ]
  },
  {
   "cell_type": "code",
   "execution_count": 3,
   "id": "amber-system",
   "metadata": {},
   "outputs": [
    {
     "data": {
      "text/html": [
       "<div>\n",
       "<style scoped>\n",
       "    .dataframe tbody tr th:only-of-type {\n",
       "        vertical-align: middle;\n",
       "    }\n",
       "\n",
       "    .dataframe tbody tr th {\n",
       "        vertical-align: top;\n",
       "    }\n",
       "\n",
       "    .dataframe thead th {\n",
       "        text-align: right;\n",
       "    }\n",
       "</style>\n",
       "<table border=\"1\" class=\"dataframe\">\n",
       "  <thead>\n",
       "    <tr style=\"text-align: right;\">\n",
       "      <th></th>\n",
       "      <th>date</th>\n",
       "      <th>numer_sta</th>\n",
       "      <th>Latitude</th>\n",
       "      <th>Longitude</th>\n",
       "      <th>Altitude</th>\n",
       "      <th>pmer</th>\n",
       "      <th>dd</th>\n",
       "      <th>ff</th>\n",
       "      <th>t</th>\n",
       "      <th>u</th>\n",
       "      <th>ssfrai</th>\n",
       "      <th>rr3</th>\n",
       "      <th>pres</th>\n",
       "      <th>dd_sin</th>\n",
       "      <th>dd_cos</th>\n",
       "    </tr>\n",
       "  </thead>\n",
       "  <tbody>\n",
       "    <tr>\n",
       "      <th>0</th>\n",
       "      <td>2010-01-01 00:00:00</td>\n",
       "      <td>7510.0</td>\n",
       "      <td>44.830667</td>\n",
       "      <td>-0.691333</td>\n",
       "      <td>47.0</td>\n",
       "      <td>99050.0</td>\n",
       "      <td>230.0</td>\n",
       "      <td>9.8</td>\n",
       "      <td>9.6</td>\n",
       "      <td>81.0</td>\n",
       "      <td>0.0</td>\n",
       "      <td>0</td>\n",
       "      <td>98410.0</td>\n",
       "      <td>-0.766044</td>\n",
       "      <td>-6.427876e-01</td>\n",
       "    </tr>\n",
       "    <tr>\n",
       "      <th>1</th>\n",
       "      <td>2010-01-01 03:00:00</td>\n",
       "      <td>7510.0</td>\n",
       "      <td>44.830667</td>\n",
       "      <td>-0.691333</td>\n",
       "      <td>47.0</td>\n",
       "      <td>99160.0</td>\n",
       "      <td>250.0</td>\n",
       "      <td>11.8</td>\n",
       "      <td>8.7</td>\n",
       "      <td>87.0</td>\n",
       "      <td>0.0</td>\n",
       "      <td>0</td>\n",
       "      <td>98520.0</td>\n",
       "      <td>-0.939693</td>\n",
       "      <td>-3.420201e-01</td>\n",
       "    </tr>\n",
       "    <tr>\n",
       "      <th>2</th>\n",
       "      <td>2010-01-01 06:00:00</td>\n",
       "      <td>7510.0</td>\n",
       "      <td>44.830667</td>\n",
       "      <td>-0.691333</td>\n",
       "      <td>47.0</td>\n",
       "      <td>99570.0</td>\n",
       "      <td>290.0</td>\n",
       "      <td>5.1</td>\n",
       "      <td>7.6</td>\n",
       "      <td>91.0</td>\n",
       "      <td>0.0</td>\n",
       "      <td>0</td>\n",
       "      <td>98920.0</td>\n",
       "      <td>-0.939693</td>\n",
       "      <td>3.420201e-01</td>\n",
       "    </tr>\n",
       "    <tr>\n",
       "      <th>3</th>\n",
       "      <td>2010-01-01 09:00:00</td>\n",
       "      <td>7510.0</td>\n",
       "      <td>44.830667</td>\n",
       "      <td>-0.691333</td>\n",
       "      <td>47.0</td>\n",
       "      <td>99990.0</td>\n",
       "      <td>310.0</td>\n",
       "      <td>5.7</td>\n",
       "      <td>6.8</td>\n",
       "      <td>92.0</td>\n",
       "      <td>0.0</td>\n",
       "      <td>0</td>\n",
       "      <td>99340.0</td>\n",
       "      <td>-0.766044</td>\n",
       "      <td>6.427876e-01</td>\n",
       "    </tr>\n",
       "    <tr>\n",
       "      <th>4</th>\n",
       "      <td>2010-01-01 12:00:00</td>\n",
       "      <td>7510.0</td>\n",
       "      <td>44.830667</td>\n",
       "      <td>-0.691333</td>\n",
       "      <td>47.0</td>\n",
       "      <td>100350.0</td>\n",
       "      <td>310.0</td>\n",
       "      <td>6.2</td>\n",
       "      <td>6.6</td>\n",
       "      <td>82.0</td>\n",
       "      <td>0.0</td>\n",
       "      <td>0</td>\n",
       "      <td>99690.0</td>\n",
       "      <td>-0.766044</td>\n",
       "      <td>6.427876e-01</td>\n",
       "    </tr>\n",
       "    <tr>\n",
       "      <th>...</th>\n",
       "      <td>...</td>\n",
       "      <td>...</td>\n",
       "      <td>...</td>\n",
       "      <td>...</td>\n",
       "      <td>...</td>\n",
       "      <td>...</td>\n",
       "      <td>...</td>\n",
       "      <td>...</td>\n",
       "      <td>...</td>\n",
       "      <td>...</td>\n",
       "      <td>...</td>\n",
       "      <td>...</td>\n",
       "      <td>...</td>\n",
       "      <td>...</td>\n",
       "      <td>...</td>\n",
       "    </tr>\n",
       "    <tr>\n",
       "      <th>505852</th>\n",
       "      <td>2021-07-31 09:00:00</td>\n",
       "      <td>7650.0</td>\n",
       "      <td>43.437667</td>\n",
       "      <td>5.216000</td>\n",
       "      <td>9.0</td>\n",
       "      <td>100920.0</td>\n",
       "      <td>310.0</td>\n",
       "      <td>3.2</td>\n",
       "      <td>27.2</td>\n",
       "      <td>58.0</td>\n",
       "      <td>0.0</td>\n",
       "      <td>0</td>\n",
       "      <td>100560.0</td>\n",
       "      <td>-0.766044</td>\n",
       "      <td>6.427876e-01</td>\n",
       "    </tr>\n",
       "    <tr>\n",
       "      <th>505853</th>\n",
       "      <td>2021-07-31 12:00:00</td>\n",
       "      <td>7650.0</td>\n",
       "      <td>43.437667</td>\n",
       "      <td>5.216000</td>\n",
       "      <td>9.0</td>\n",
       "      <td>100770.0</td>\n",
       "      <td>270.0</td>\n",
       "      <td>6.1</td>\n",
       "      <td>30.6</td>\n",
       "      <td>49.0</td>\n",
       "      <td>0.0</td>\n",
       "      <td>0</td>\n",
       "      <td>100410.0</td>\n",
       "      <td>-1.000000</td>\n",
       "      <td>-1.836970e-16</td>\n",
       "    </tr>\n",
       "    <tr>\n",
       "      <th>505854</th>\n",
       "      <td>2021-07-31 15:00:00</td>\n",
       "      <td>7650.0</td>\n",
       "      <td>43.437667</td>\n",
       "      <td>5.216000</td>\n",
       "      <td>9.0</td>\n",
       "      <td>100680.0</td>\n",
       "      <td>310.0</td>\n",
       "      <td>8.2</td>\n",
       "      <td>30.0</td>\n",
       "      <td>40.0</td>\n",
       "      <td>0.0</td>\n",
       "      <td>0</td>\n",
       "      <td>100320.0</td>\n",
       "      <td>-0.766044</td>\n",
       "      <td>6.427876e-01</td>\n",
       "    </tr>\n",
       "    <tr>\n",
       "      <th>505855</th>\n",
       "      <td>2021-07-31 18:00:00</td>\n",
       "      <td>7650.0</td>\n",
       "      <td>43.437667</td>\n",
       "      <td>5.216000</td>\n",
       "      <td>9.0</td>\n",
       "      <td>100750.0</td>\n",
       "      <td>320.0</td>\n",
       "      <td>8.0</td>\n",
       "      <td>27.9</td>\n",
       "      <td>45.0</td>\n",
       "      <td>0.0</td>\n",
       "      <td>0</td>\n",
       "      <td>100390.0</td>\n",
       "      <td>-0.642788</td>\n",
       "      <td>7.660444e-01</td>\n",
       "    </tr>\n",
       "    <tr>\n",
       "      <th>505856</th>\n",
       "      <td>2021-07-31 21:00:00</td>\n",
       "      <td>7650.0</td>\n",
       "      <td>43.437667</td>\n",
       "      <td>5.216000</td>\n",
       "      <td>9.0</td>\n",
       "      <td>100770.0</td>\n",
       "      <td>330.0</td>\n",
       "      <td>7.3</td>\n",
       "      <td>24.0</td>\n",
       "      <td>48.0</td>\n",
       "      <td>0.0</td>\n",
       "      <td>0</td>\n",
       "      <td>100400.0</td>\n",
       "      <td>-0.500000</td>\n",
       "      <td>8.660254e-01</td>\n",
       "    </tr>\n",
       "  </tbody>\n",
       "</table>\n",
       "<p>505857 rows × 15 columns</p>\n",
       "</div>"
      ],
      "text/plain": [
       "                       date  numer_sta   Latitude  Longitude  Altitude  \\\n",
       "0       2010-01-01 00:00:00     7510.0  44.830667  -0.691333      47.0   \n",
       "1       2010-01-01 03:00:00     7510.0  44.830667  -0.691333      47.0   \n",
       "2       2010-01-01 06:00:00     7510.0  44.830667  -0.691333      47.0   \n",
       "3       2010-01-01 09:00:00     7510.0  44.830667  -0.691333      47.0   \n",
       "4       2010-01-01 12:00:00     7510.0  44.830667  -0.691333      47.0   \n",
       "...                     ...        ...        ...        ...       ...   \n",
       "505852  2021-07-31 09:00:00     7650.0  43.437667   5.216000       9.0   \n",
       "505853  2021-07-31 12:00:00     7650.0  43.437667   5.216000       9.0   \n",
       "505854  2021-07-31 15:00:00     7650.0  43.437667   5.216000       9.0   \n",
       "505855  2021-07-31 18:00:00     7650.0  43.437667   5.216000       9.0   \n",
       "505856  2021-07-31 21:00:00     7650.0  43.437667   5.216000       9.0   \n",
       "\n",
       "            pmer     dd    ff     t     u  ssfrai  rr3      pres    dd_sin  \\\n",
       "0        99050.0  230.0   9.8   9.6  81.0     0.0    0   98410.0 -0.766044   \n",
       "1        99160.0  250.0  11.8   8.7  87.0     0.0    0   98520.0 -0.939693   \n",
       "2        99570.0  290.0   5.1   7.6  91.0     0.0    0   98920.0 -0.939693   \n",
       "3        99990.0  310.0   5.7   6.8  92.0     0.0    0   99340.0 -0.766044   \n",
       "4       100350.0  310.0   6.2   6.6  82.0     0.0    0   99690.0 -0.766044   \n",
       "...          ...    ...   ...   ...   ...     ...  ...       ...       ...   \n",
       "505852  100920.0  310.0   3.2  27.2  58.0     0.0    0  100560.0 -0.766044   \n",
       "505853  100770.0  270.0   6.1  30.6  49.0     0.0    0  100410.0 -1.000000   \n",
       "505854  100680.0  310.0   8.2  30.0  40.0     0.0    0  100320.0 -0.766044   \n",
       "505855  100750.0  320.0   8.0  27.9  45.0     0.0    0  100390.0 -0.642788   \n",
       "505856  100770.0  330.0   7.3  24.0  48.0     0.0    0  100400.0 -0.500000   \n",
       "\n",
       "              dd_cos  \n",
       "0      -6.427876e-01  \n",
       "1      -3.420201e-01  \n",
       "2       3.420201e-01  \n",
       "3       6.427876e-01  \n",
       "4       6.427876e-01  \n",
       "...              ...  \n",
       "505852  6.427876e-01  \n",
       "505853 -1.836970e-16  \n",
       "505854  6.427876e-01  \n",
       "505855  7.660444e-01  \n",
       "505856  8.660254e-01  \n",
       "\n",
       "[505857 rows x 15 columns]"
      ]
     },
     "execution_count": 3,
     "metadata": {},
     "output_type": "execute_result"
    }
   ],
   "source": [
    "csv_path = os.path.join('..','data','data_weather_cleaned.csv')\n",
    "df = pd.read_csv(csv_path)\n",
    "df"
   ]
  },
  {
   "cell_type": "markdown",
   "id": "aging-document",
   "metadata": {},
   "source": [
    "## Cleaning"
   ]
  },
  {
   "cell_type": "markdown",
   "id": "devoted-plymouth",
   "metadata": {},
   "source": [
    "<b>Consigne:</b> Sélectionner les colonnes \"date\" et \"temperature\" de la station 7577 (output: 33775 rows)"
   ]
  },
  {
   "cell_type": "code",
   "execution_count": 10,
   "id": "military-mitchell",
   "metadata": {},
   "outputs": [
    {
     "data": {
      "text/html": [
       "<div>\n",
       "<style scoped>\n",
       "    .dataframe tbody tr th:only-of-type {\n",
       "        vertical-align: middle;\n",
       "    }\n",
       "\n",
       "    .dataframe tbody tr th {\n",
       "        vertical-align: top;\n",
       "    }\n",
       "\n",
       "    .dataframe thead th {\n",
       "        text-align: right;\n",
       "    }\n",
       "</style>\n",
       "<table border=\"1\" class=\"dataframe\">\n",
       "  <thead>\n",
       "    <tr style=\"text-align: right;\">\n",
       "      <th></th>\n",
       "      <th>date</th>\n",
       "      <th>t</th>\n",
       "    </tr>\n",
       "  </thead>\n",
       "  <tbody>\n",
       "    <tr>\n",
       "      <th>370914</th>\n",
       "      <td>2010-01-01 00:00:00</td>\n",
       "      <td>7.3</td>\n",
       "    </tr>\n",
       "    <tr>\n",
       "      <th>370915</th>\n",
       "      <td>2010-01-01 03:00:00</td>\n",
       "      <td>7.7</td>\n",
       "    </tr>\n",
       "    <tr>\n",
       "      <th>370916</th>\n",
       "      <td>2010-01-01 06:00:00</td>\n",
       "      <td>7.5</td>\n",
       "    </tr>\n",
       "    <tr>\n",
       "      <th>370917</th>\n",
       "      <td>2010-01-01 09:00:00</td>\n",
       "      <td>7.6</td>\n",
       "    </tr>\n",
       "    <tr>\n",
       "      <th>370918</th>\n",
       "      <td>2010-01-01 12:00:00</td>\n",
       "      <td>8.3</td>\n",
       "    </tr>\n",
       "    <tr>\n",
       "      <th>...</th>\n",
       "      <td>...</td>\n",
       "      <td>...</td>\n",
       "    </tr>\n",
       "    <tr>\n",
       "      <th>404684</th>\n",
       "      <td>2021-07-31 09:00:00</td>\n",
       "      <td>20.8</td>\n",
       "    </tr>\n",
       "    <tr>\n",
       "      <th>404685</th>\n",
       "      <td>2021-07-31 12:00:00</td>\n",
       "      <td>23.4</td>\n",
       "    </tr>\n",
       "    <tr>\n",
       "      <th>404686</th>\n",
       "      <td>2021-07-31 15:00:00</td>\n",
       "      <td>24.2</td>\n",
       "    </tr>\n",
       "    <tr>\n",
       "      <th>404687</th>\n",
       "      <td>2021-07-31 18:00:00</td>\n",
       "      <td>20.4</td>\n",
       "    </tr>\n",
       "    <tr>\n",
       "      <th>404688</th>\n",
       "      <td>2021-07-31 21:00:00</td>\n",
       "      <td>17.1</td>\n",
       "    </tr>\n",
       "  </tbody>\n",
       "</table>\n",
       "<p>33775 rows × 2 columns</p>\n",
       "</div>"
      ],
      "text/plain": [
       "                       date     t\n",
       "370914  2010-01-01 00:00:00   7.3\n",
       "370915  2010-01-01 03:00:00   7.7\n",
       "370916  2010-01-01 06:00:00   7.5\n",
       "370917  2010-01-01 09:00:00   7.6\n",
       "370918  2010-01-01 12:00:00   8.3\n",
       "...                     ...   ...\n",
       "404684  2021-07-31 09:00:00  20.8\n",
       "404685  2021-07-31 12:00:00  23.4\n",
       "404686  2021-07-31 15:00:00  24.2\n",
       "404687  2021-07-31 18:00:00  20.4\n",
       "404688  2021-07-31 21:00:00  17.1\n",
       "\n",
       "[33775 rows x 2 columns]"
      ]
     },
     "execution_count": 10,
     "metadata": {},
     "output_type": "execute_result"
    }
   ],
   "source": [
    "data = df[[\"date\",\"t\",\"numer_sta\"]]\n",
    "data = data[data[\"numer_sta\"] == 7577]\n",
    "data.drop(columns=\"numer_sta\")"
   ]
  },
  {
   "cell_type": "markdown",
   "id": "extraordinary-republic",
   "metadata": {},
   "source": [
    "<b>Consigne:</b> Enlever les duplicatas (output: 33769 rows)"
   ]
  },
  {
   "cell_type": "code",
   "execution_count": 11,
   "id": "latter-winner",
   "metadata": {},
   "outputs": [
    {
     "data": {
      "text/plain": [
       "(33769, 3)"
      ]
     },
     "execution_count": 11,
     "metadata": {},
     "output_type": "execute_result"
    }
   ],
   "source": [
    "data = data.drop_duplicates()\n",
    "data.shape"
   ]
  },
  {
   "cell_type": "markdown",
   "id": "brilliant-affair",
   "metadata": {},
   "source": [
    "<b>Consigne:</b> Convertir les date au bon format (utiliser: pd.to_datetime) "
   ]
  },
  {
   "cell_type": "raw",
   "id": "regulated-classification",
   "metadata": {},
   "source": [
    "input df.info() :\n",
    "#   Column     Non-Null Count  Dtype  \n",
    "---  ------     --------------  -----  \n",
    " 0   date       33769 non-null  object\n",
    " ...\n",
    " \n",
    "output df.info() :\n",
    " #   Column     Non-Null Count  Dtype         \n",
    "---  ------     --------------  -----         \n",
    " 0   date       33769 non-null  datetime64[ns]\n",
    " ..."
   ]
  },
  {
   "cell_type": "code",
   "execution_count": 16,
   "id": "transparent-thong",
   "metadata": {},
   "outputs": [],
   "source": [
    "data[\"date\"] = pd.to_datetime(data[\"date\"])"
   ]
  },
  {
   "cell_type": "markdown",
   "id": "vocational-finnish",
   "metadata": {},
   "source": [
    "<b>Consigne:</b> Retrouver les dates manquantes de la série (33840 rows)\n",
    "- Créer une liste de dates complêtes commencant à la date du début de la série et finissant à la date de la série avec le même échantillonage de 3h (utiliser pd.date_range)\n",
    "- Faire une jointure \"outer\" de la série et de la nouvelle colonne créée (utiliser pd.merge)\n",
    "- Ordonner les dates du nouveaux dataframe créés (utiliser sort_values)"
   ]
  },
  {
   "cell_type": "code",
   "execution_count": 22,
   "id": "royal-imaging",
   "metadata": {},
   "outputs": [
    {
     "data": {
      "text/plain": [
       "'2010-01-01 06:00:00'"
      ]
     },
     "execution_count": 22,
     "metadata": {},
     "output_type": "execute_result"
    }
   ],
   "source": [
    "starto = data[\"date\"]\n",
    "pd.date_range(start='1/1/2018', periods=5, freq='M')\n",
    "str(starto.iloc[0])"
   ]
  },
  {
   "cell_type": "code",
   "execution_count": null,
   "id": "seven-laser",
   "metadata": {},
   "outputs": [],
   "source": [
    "df.isnull().sum().sort_values(ascending=False)"
   ]
  },
  {
   "cell_type": "raw",
   "id": "joint-theta",
   "metadata": {},
   "source": [
    "t            71\n",
    "date          0\n",
    "dtype: int64"
   ]
  },
  {
   "cell_type": "markdown",
   "id": "worldwide-logan",
   "metadata": {},
   "source": [
    "<b>Consigne:</b> Combler les valeurs aux dates manquantes avec la valeur moyenne de la série\n",
    "- Reset l'index\n",
    "- Remplacer les valeurs nulles par la moyenne (utiliser SimpleImputer)"
   ]
  },
  {
   "cell_type": "code",
   "execution_count": null,
   "id": "julian-signal",
   "metadata": {},
   "outputs": [],
   "source": []
  },
  {
   "cell_type": "code",
   "execution_count": null,
   "id": "instructional-faith",
   "metadata": {},
   "outputs": [],
   "source": [
    "df.isnull().sum().sort_values(ascending=False)"
   ]
  },
  {
   "cell_type": "raw",
   "id": "responsible-ozone",
   "metadata": {},
   "source": [
    "date          0\n",
    "t             0\n",
    "dtype: int64"
   ]
  },
  {
   "cell_type": "markdown",
   "id": "scheduled-spray",
   "metadata": {},
   "source": [
    "<b>Visualisation de la ST de température en °C clean</b>"
   ]
  },
  {
   "cell_type": "markdown",
   "id": "together-valuable",
   "metadata": {},
   "source": [
    "<img src=\"../images/st_plot_1.png\">"
   ]
  },
  {
   "cell_type": "markdown",
   "id": "ignored-bouquet",
   "metadata": {},
   "source": [
    "## Retirer la saisonnalité annuelle"
   ]
  },
  {
   "cell_type": "markdown",
   "id": "harmful-welsh",
   "metadata": {},
   "source": [
    "<b> Méthode de régression sinusoidale</b>"
   ]
  },
  {
   "cell_type": "code",
   "execution_count": null,
   "id": "infinite-underwear",
   "metadata": {},
   "outputs": [],
   "source": [
    "def sinus_fit(index_list, data, index_list_fit, guess_freq):\n",
    "    guess_mean = np.mean(data)\n",
    "    guess_std = 3*np.std(data)/(2**0.5)/(2**0.5)\n",
    "    guess_phase = 0\n",
    "    guess_amp = 1\n",
    "\n",
    "    data_first_guess = guess_std*np.sin(guess_freq*2*np.pi*index_list/len(t)+guess_phase) + guess_mean\n",
    "\n",
    "    optimize_func = lambda x: x[0]*np.sin(x[1]*2*np.pi*index_list/len(t)+x[2]) + x[3] - data\n",
    "    est_amp, est_freq, est_phase, est_mean = op.leastsq(optimize_func, [guess_amp, guess_freq, guess_phase, guess_mean])[0]\n",
    "    data_fit = est_amp*np.sin(est_freq*2*np.pi*index_list_fit/len(t)+est_phase)+est_mean\n",
    "    return data_fit, data_first_guess"
   ]
  },
  {
   "cell_type": "markdown",
   "id": "silent-cross",
   "metadata": {},
   "source": [
    "<b>Consigne:</b> Utiliser la méthode sinus_fit pour déterminer la saisonalité annuelle de la série\n",
    "- La guess_freq correspond au nombre de sinusoides présentes visibles sur le signal"
   ]
  },
  {
   "cell_type": "code",
   "execution_count": null,
   "id": "valued-classroom",
   "metadata": {},
   "outputs": [],
   "source": []
  },
  {
   "cell_type": "markdown",
   "id": "alternate-invitation",
   "metadata": {},
   "source": [
    "<b>Tracé de la saisonalité annuelle de la température (en vert)</b>"
   ]
  },
  {
   "cell_type": "markdown",
   "id": "otherwise-smart",
   "metadata": {},
   "source": [
    "<img src=\"../images/st_plot_2.png\">"
   ]
  },
  {
   "cell_type": "markdown",
   "id": "accurate-peripheral",
   "metadata": {},
   "source": [
    "<b>Consigne:</b> Retirer cette saisonalité de la série temporelle pour travailler sur les résidus"
   ]
  },
  {
   "cell_type": "code",
   "execution_count": null,
   "id": "first-validation",
   "metadata": {},
   "outputs": [],
   "source": []
  },
  {
   "cell_type": "markdown",
   "id": "parliamentary-package",
   "metadata": {},
   "source": [
    "<b>Tracé des résidus de température</b>"
   ]
  },
  {
   "cell_type": "markdown",
   "id": "general-bacteria",
   "metadata": {},
   "source": [
    "<img src=\"../images/st_plot_3.png\">"
   ]
  },
  {
   "cell_type": "markdown",
   "id": "sunset-belarus",
   "metadata": {},
   "source": [
    "## Préparation des données pour le prédiction des deux prochains jours"
   ]
  },
  {
   "cell_type": "markdown",
   "id": "prime-pioneer",
   "metadata": {},
   "source": [
    "<b>Consigne:</b> Définir les dates en index et la fréquence de 3H du dataframe (utiliser asfreq)"
   ]
  },
  {
   "cell_type": "code",
   "execution_count": null,
   "id": "bacterial-tenant",
   "metadata": {},
   "outputs": [],
   "source": []
  },
  {
   "cell_type": "code",
   "execution_count": null,
   "id": "rocky-month",
   "metadata": {},
   "outputs": [],
   "source": [
    "df_f.info()"
   ]
  },
  {
   "cell_type": "raw",
   "id": "dress-canyon",
   "metadata": {},
   "source": [
    "<class 'pandas.core.frame.DataFrame'>\n",
    "DatetimeIndex: 33840 entries, 2010-01-01 00:00:00 to 2021-07-31 21:00:00\n",
    "Freq: 3H\n",
    "Data columns (total 3 columns):\n",
    " #   Column     Non-Null Count  Dtype  \n",
    "---  ------     --------------  -----  \n",
    " 0   t          33840 non-null  float64\n",
    " 1  unyearly   33840 non-null  float64\n",
    "dtypes: float64(3)"
   ]
  },
  {
   "cell_type": "markdown",
   "id": "satellite-thickness",
   "metadata": {},
   "source": [
    "<b>Consigne:</b> Ne garder que les 25 derniers jours (suffisants pour prédire les 2 jours suivants)\n",
    "- Utiliser les 20 premiers jours de ces 25 jours comme données de training\n",
    "- Utiliser les 5 derniers jours comme données de testing"
   ]
  },
  {
   "cell_type": "code",
   "execution_count": null,
   "id": "thrown-lincoln",
   "metadata": {},
   "outputs": [],
   "source": []
  },
  {
   "cell_type": "markdown",
   "id": "early-conducting",
   "metadata": {},
   "source": [
    "<b>Consigne:</b> Retirer la saisonnalité journalière (utiliser seasonal_decompose avec le modèle \"additive\")"
   ]
  },
  {
   "cell_type": "code",
   "execution_count": null,
   "id": "allied-capacity",
   "metadata": {},
   "outputs": [],
   "source": []
  },
  {
   "cell_type": "markdown",
   "id": "several-sound",
   "metadata": {},
   "source": [
    "<b>Tracé des résidus de température</b>"
   ]
  },
  {
   "cell_type": "markdown",
   "id": "acoustic-bangladesh",
   "metadata": {},
   "source": [
    "<img src=\"../images/st_plot_4.png\">"
   ]
  },
  {
   "cell_type": "markdown",
   "id": "applicable-people",
   "metadata": {},
   "source": [
    "<b>Consigne:</b> Isolé la série temporelle de la saisonnalité journalière (utiliser .seasonal)"
   ]
  },
  {
   "cell_type": "code",
   "execution_count": null,
   "id": "capable-shift",
   "metadata": {},
   "outputs": [],
   "source": []
  },
  {
   "cell_type": "markdown",
   "id": "japanese-distribution",
   "metadata": {},
   "source": [
    "<b>Consigne:</b> Soustraire cette saisonnalité à la série"
   ]
  },
  {
   "cell_type": "code",
   "execution_count": null,
   "id": "mineral-cigarette",
   "metadata": {},
   "outputs": [],
   "source": []
  },
  {
   "cell_type": "markdown",
   "id": "centered-privacy",
   "metadata": {},
   "source": [
    "<b>Tracé des résidus après extraction de la saisonalité journalière</b>"
   ]
  },
  {
   "cell_type": "markdown",
   "id": "flush-bride",
   "metadata": {},
   "source": [
    "<img src=\"../images/st_plot_5.png\">"
   ]
  },
  {
   "cell_type": "markdown",
   "id": "improved-morrison",
   "metadata": {},
   "source": [
    "## Model ARIMA"
   ]
  },
  {
   "cell_type": "markdown",
   "id": "grateful-reserve",
   "metadata": {},
   "source": [
    "<b>Consigne:</b> Utiliser les methodes plot_acf et plot_pacf pour visualiser la faisabilité du modèle"
   ]
  },
  {
   "cell_type": "code",
   "execution_count": null,
   "id": "excited-cookie",
   "metadata": {},
   "outputs": [],
   "source": []
  },
  {
   "cell_type": "markdown",
   "id": "billion-strengthening",
   "metadata": {},
   "source": [
    "<b>Tracés plot_acf et plot_pacf</b>"
   ]
  },
  {
   "cell_type": "markdown",
   "id": "controlling-grammar",
   "metadata": {},
   "source": [
    "<img src=\"../images/st_plot_6.png\">"
   ]
  },
  {
   "cell_type": "markdown",
   "id": "bronze-narrow",
   "metadata": {},
   "source": [
    "<b>Consigne:</b> Evaluer les meilleurs paramètres pour le modèle ARIMA (utiliser pm.auto_arima)"
   ]
  },
  {
   "cell_type": "code",
   "execution_count": null,
   "id": "egyptian-quarterly",
   "metadata": {},
   "outputs": [],
   "source": []
  },
  {
   "cell_type": "raw",
   "id": "separate-execution",
   "metadata": {},
   "source": [
    "output :\n",
    "Performing stepwise search to minimize aic\n",
    " ARIMA(1,1,3)(0,0,0)[0] intercept   : AIC=655.549, Time=0.10 sec\n",
    " ARIMA(0,1,0)(0,0,0)[0] intercept   : AIC=664.520, Time=0.01 sec\n",
    " ARIMA(1,1,0)(0,0,0)[0] intercept   : AIC=666.498, Time=0.01 sec\n",
    " ARIMA(0,1,1)(0,0,0)[0] intercept   : AIC=666.493, Time=0.02 sec\n",
    " ARIMA(0,1,0)(0,0,0)[0]             : AIC=662.537, Time=0.01 sec\n",
    " ARIMA(0,1,3)(0,0,0)[0] intercept   : AIC=654.089, Time=0.04 sec\n",
    " ARIMA(0,1,2)(0,0,0)[0] intercept   : AIC=665.278, Time=0.02 sec\n",
    " ARIMA(0,1,4)(0,0,0)[0] intercept   : AIC=655.391, Time=0.04 sec\n",
    " ARIMA(1,1,2)(0,0,0)[0] intercept   : AIC=658.472, Time=0.09 sec\n",
    " ARIMA(1,1,4)(0,0,0)[0] intercept   : AIC=657.057, Time=0.14 sec\n",
    " ARIMA(0,1,3)(0,0,0)[0]             : AIC=652.121, Time=0.02 sec\n",
    " ARIMA(0,1,2)(0,0,0)[0]             : AIC=663.311, Time=0.02 sec\n",
    " ARIMA(1,1,3)(0,0,0)[0]             : AIC=653.576, Time=0.04 sec\n",
    " ARIMA(0,1,4)(0,0,0)[0]             : AIC=653.418, Time=0.02 sec\n",
    " ARIMA(1,1,2)(0,0,0)[0]             : AIC=656.493, Time=0.04 sec\n",
    " ARIMA(1,1,4)(0,0,0)[0]             : AIC=655.085, Time=0.08 sec\n",
    "\n",
    "Best model:  ARIMA(0,1,3)(0,0,0)[0]          \n",
    "Total fit time: 0.694 seconds"
   ]
  },
  {
   "cell_type": "markdown",
   "id": "athletic-punishment",
   "metadata": {},
   "source": [
    "<b>Consigne:</b> Faire tourner le modèle ARIMA avec le training set (utiliser ARIMA et arima.fit)"
   ]
  },
  {
   "cell_type": "code",
   "execution_count": null,
   "id": "sweet-gasoline",
   "metadata": {},
   "outputs": [],
   "source": [
    "arima.summary()"
   ]
  },
  {
   "cell_type": "markdown",
   "id": "backed-pierce",
   "metadata": {},
   "source": [
    "<img src=\"../images/st_tab_1.png\" width=\"500px\">"
   ]
  },
  {
   "cell_type": "markdown",
   "id": "stuck-community",
   "metadata": {},
   "source": [
    "<b>Consigne:</b> Utiliser le resulat du modèle pour avec le testing set (utiliser arima.forecast)"
   ]
  },
  {
   "cell_type": "code",
   "execution_count": null,
   "id": "swedish-pizza",
   "metadata": {},
   "outputs": [],
   "source": []
  },
  {
   "cell_type": "markdown",
   "id": "grand-network",
   "metadata": {},
   "source": [
    "<b>Tracé de la prédiction du modèle ARIMA</b>"
   ]
  },
  {
   "cell_type": "markdown",
   "id": "together-danger",
   "metadata": {},
   "source": [
    "<img src=\"../images/st_plot_7.png\">"
   ]
  },
  {
   "cell_type": "code",
   "execution_count": null,
   "id": "continuing-wellington",
   "metadata": {},
   "outputs": [],
   "source": []
  },
  {
   "cell_type": "markdown",
   "id": "technological-shark",
   "metadata": {},
   "source": [
    "## Reconstruire la prédiction avec la saisonalité"
   ]
  },
  {
   "cell_type": "markdown",
   "id": "blessed-minneapolis",
   "metadata": {},
   "source": [
    "<b>Méthode utilsant les transformées de Fourier</b>\n",
    "<br>\n",
    "L'objectif est de reconstruire la saisonalité journalière a fin de prédire cette saisonalité pour les jours suivants"
   ]
  },
  {
   "cell_type": "code",
   "execution_count": null,
   "id": "authorized-homeless",
   "metadata": {},
   "outputs": [],
   "source": [
    "#https://gist.github.com/tartakynov/83f3cd8f44208a1856ce\n",
    "def fourierExtrapolation(x, n_predict):\n",
    "    n = x.size\n",
    "    n_harm = n\n",
    "    t = np.arange(0, n)\n",
    "    x_freqdom = fft.fft(x)\n",
    "    f = fft.fftfreq(n)\n",
    "    indexes = list(range(n))\n",
    "    indexes.sort(key = lambda i: np.absolute(f[i]))\n",
    "    t = np.arange(0, n + n_predict)\n",
    "    restored_sig = np.zeros(t.size)\n",
    "    for i in indexes[:1 + n_harm * 2]:\n",
    "        ampli = np.absolute(x_freqdom[i]) / n   # amplitude\n",
    "        phase = np.angle(x_freqdom[i])          # phase\n",
    "        restored_sig += ampli * np.cos(2 * np.pi * f[i] * t + phase)\n",
    "    return restored_sig"
   ]
  },
  {
   "cell_type": "markdown",
   "id": "dominican-expression",
   "metadata": {},
   "source": [
    "<b>Consigne:</b> Utiliser la méthode ci dessus pour reconstruire la saisonalité journalière pour les jours de testing"
   ]
  },
  {
   "cell_type": "code",
   "execution_count": null,
   "id": "stupid-vault",
   "metadata": {},
   "outputs": [],
   "source": []
  },
  {
   "cell_type": "markdown",
   "id": "completed-messenger",
   "metadata": {},
   "source": [
    "<b>Tracé de la saisonalité journalière reconstruite avec la méthode des transformées de fourier</b>"
   ]
  },
  {
   "cell_type": "markdown",
   "id": "professional-killing",
   "metadata": {},
   "source": [
    "<img src=\"../images/st_plot_8.png\">"
   ]
  },
  {
   "cell_type": "markdown",
   "id": "prescribed-parcel",
   "metadata": {},
   "source": [
    "<b>Consigne:</b> Additionner les prédictions du modèle arima, la saisonalité annuelle et la saisonalité journalière pour retrouver le prédiction totale"
   ]
  },
  {
   "cell_type": "code",
   "execution_count": null,
   "id": "informal-armstrong",
   "metadata": {},
   "outputs": [],
   "source": []
  },
  {
   "cell_type": "markdown",
   "id": "other-lexington",
   "metadata": {},
   "source": [
    "<b>Tracé de la prédiction finale</b>"
   ]
  },
  {
   "cell_type": "markdown",
   "id": "stainless-warrant",
   "metadata": {},
   "source": [
    "<img src=\"../images/st_plot_9.png\">"
   ]
  }
 ],
 "metadata": {
  "kernelspec": {
   "display_name": "Python 3",
   "language": "python",
   "name": "python3"
  },
  "language_info": {
   "codemirror_mode": {
    "name": "ipython",
    "version": 3
   },
   "file_extension": ".py",
   "mimetype": "text/x-python",
   "name": "python",
   "nbconvert_exporter": "python",
   "pygments_lexer": "ipython3",
   "version": "3.8.12 (default, Sep 28 2022, 12:09:15) \n[GCC 11.2.0]"
  },
  "toc": {
   "base_numbering": 1,
   "nav_menu": {},
   "number_sections": true,
   "sideBar": true,
   "skip_h1_title": false,
   "title_cell": "Table of Contents",
   "title_sidebar": "Contents",
   "toc_cell": false,
   "toc_position": {},
   "toc_section_display": true,
   "toc_window_display": false
  },
  "vscode": {
   "interpreter": {
    "hash": "e588d92b224e11b16adbbadd39936dea13a6488171770263a646fc57f44563d8"
   }
  }
 },
 "nbformat": 4,
 "nbformat_minor": 5
}
