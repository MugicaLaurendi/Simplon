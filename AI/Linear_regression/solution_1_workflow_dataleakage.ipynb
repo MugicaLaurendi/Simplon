{
 "cells": [
  {
   "cell_type": "markdown",
   "id": "af841f65",
   "metadata": {},
   "source": [
    "## Scaler"
   ]
  },
  {
   "cell_type": "markdown",
   "id": "cd04af75",
   "metadata": {},
   "source": [
    "### Numerical features & Categorical Features"
   ]
  },
  {
   "cell_type": "code",
   "execution_count": 17,
   "id": "9c9041bd",
   "metadata": {
    "ExecuteTime": {
     "end_time": "2022-12-01T11:00:38.156034Z",
     "start_time": "2022-12-01T11:00:36.055022Z"
    }
   },
   "outputs": [],
   "source": [
    "from sklearn.preprocessing import MinMaxScaler\n",
    "from sklearn.preprocessing import OneHotEncoder\n",
    "from sklearn.linear_model import LinearRegression\n",
    "import pandas as pd \n",
    "import seaborn as sns\n",
    "from sklearn.model_selection import train_test_split\n",
    "\n",
    "\n",
    "def scaler_cat(features_cat):\n",
    "    ohe = OneHotEncoder(sparse=False)\n",
    "    features_cat_scaled = ohe.fit_transform(features_cat)\n",
    "    features_cat_scaled_df = pd.DataFrame(features_cat_scaled)\n",
    "    return features_cat_scaled_df\n",
    "\n",
    "def scaler_num(features_num,features_train):\n",
    "    scaler = MinMaxScaler()\n",
    "    scaler.fit(features_train)\n",
    "    features_num_scaled = scaler.transform(features_num)\n",
    "    features_num_scaled_df = pd.DataFrame(features_num_scaled)\n",
    "    return features_num_scaled_df\n",
    "\n",
    "\n",
    "def scaler_features(X_train,X_test, y_train, y_test):\n",
    "\n",
    "    X_train_cat = X_train.select_dtypes(include=['category'])\n",
    "    X_test_cat = X_test.select_dtypes(include=['category'])\n",
    "\n",
    "    X_train_cat_scaled_df = scaler_cat(X_train_cat)\n",
    "    X_test_cat_scaled_df = scaler_cat(X_test_cat)\n",
    "    \n",
    "    X_train_num = X_train.select_dtypes(include=['float64','int64'])\n",
    "    X_test_num = X_test.select_dtypes(include=['float64','int64'])\n",
    "\n",
    "    X_train_num_scaled_df = scaler_num(X_train_num,X_train_num)\n",
    "    X_test_num_scaled_df = scaler_num(X_test_num,X_train_num)\n",
    "    \n",
    "    X_train_prep_df = pd.concat([X_train_cat_scaled_df, X_train_num_scaled_df], axis=1)\n",
    "    X_test_prep_df = pd.concat([X_test_cat_scaled_df, X_test_num_scaled_df], axis=1)\n",
    "\n",
    "    return X_train_prep_df, X_test_prep_df, y_train, y_test"
   ]
  },
  {
   "cell_type": "code",
   "execution_count": 18,
   "id": "147f5b0e",
   "metadata": {
    "ExecuteTime": {
     "end_time": "2022-12-01T11:00:38.169336Z",
     "start_time": "2022-12-01T11:00:38.157893Z"
    }
   },
   "outputs": [],
   "source": [
    "data = sns.load_dataset('tips')"
   ]
  },
  {
   "cell_type": "code",
   "execution_count": 19,
   "id": "0fa89d36",
   "metadata": {
    "ExecuteTime": {
     "end_time": "2022-12-01T11:00:38.176446Z",
     "start_time": "2022-12-01T11:00:38.172506Z"
    }
   },
   "outputs": [],
   "source": [
    "y = data['tip']\n",
    "\n",
    "X = data.drop(columns=['tip'])"
   ]
  },
  {
   "cell_type": "code",
   "execution_count": 20,
   "id": "5557efd4",
   "metadata": {
    "ExecuteTime": {
     "end_time": "2022-12-01T11:00:38.184824Z",
     "start_time": "2022-12-01T11:00:38.178649Z"
    }
   },
   "outputs": [],
   "source": [
    "#X_train_2,X_test_2, y_train_2, y_test_2 = train_test_split(X, y, test_size=0.3, random_state=60)"
   ]
  },
  {
   "cell_type": "code",
   "execution_count": 21,
   "id": "f761708f",
   "metadata": {
    "ExecuteTime": {
     "end_time": "2022-12-01T11:00:38.202070Z",
     "start_time": "2022-12-01T11:00:38.186884Z"
    }
   },
   "outputs": [],
   "source": [
    "\n",
    "#X_train_2_prep_df = scaler_features(X_train_2)\n",
    "\n",
    "X_train_prep_df, X_test_prep_df, y_train, y_test = scaler_features(*train_test_split(X, y, test_size=0.3, random_state=60))\n"
   ]
  },
  {
   "cell_type": "code",
   "execution_count": 22,
   "id": "c1cd7f3c",
   "metadata": {
    "ExecuteTime": {
     "end_time": "2022-12-01T11:00:38.206627Z",
     "start_time": "2022-12-01T11:00:38.204024Z"
    }
   },
   "outputs": [],
   "source": [
    "\n",
    "lr = LinearRegression()\n"
   ]
  },
  {
   "cell_type": "code",
   "execution_count": 28,
   "id": "ad2b7c7c",
   "metadata": {
    "ExecuteTime": {
     "end_time": "2022-12-01T11:00:38.223086Z",
     "start_time": "2022-12-01T11:00:38.209373Z"
    }
   },
   "outputs": [
    {
     "data": {
      "text/plain": [
       "0.4975025636769379"
      ]
     },
     "execution_count": 28,
     "metadata": {},
     "output_type": "execute_result"
    }
   ],
   "source": [
    "lr.fit(X_train_prep_df,y_train)\n",
    "\n",
    "lr.score(X_train_prep_df,y_train)"
   ]
  },
  {
   "cell_type": "code",
   "execution_count": 24,
   "id": "d8f6d0ca",
   "metadata": {
    "ExecuteTime": {
     "end_time": "2022-12-01T11:00:38.229471Z",
     "start_time": "2022-12-01T11:00:38.226009Z"
    }
   },
   "outputs": [],
   "source": [
    "from sklearn.model_selection import cross_validate"
   ]
  },
  {
   "cell_type": "code",
   "execution_count": 25,
   "id": "4d55a3cd",
   "metadata": {
    "ExecuteTime": {
     "end_time": "2022-12-01T11:00:38.276426Z",
     "start_time": "2022-12-01T11:00:38.233734Z"
    }
   },
   "outputs": [
    {
     "data": {
      "text/plain": [
       "0.3598759687098184"
      ]
     },
     "execution_count": 25,
     "metadata": {},
     "output_type": "execute_result"
    }
   ],
   "source": [
    "cross_validate(lr, X_train_prep_df, y_train, cv=5)['test_score'].mean()"
   ]
  },
  {
   "cell_type": "markdown",
   "id": "20b0f2d5",
   "metadata": {
    "ExecuteTime": {
     "end_time": "2022-11-28T13:16:01.921314Z",
     "start_time": "2022-11-28T13:16:01.914093Z"
    }
   },
   "source": [
    "<img src=\"../images/cross-validate.png\" alt=\"schema cross validation\"/>"
   ]
  },
  {
   "cell_type": "code",
   "execution_count": 26,
   "id": "c5a0989a",
   "metadata": {
    "ExecuteTime": {
     "end_time": "2022-12-01T11:00:38.296756Z",
     "start_time": "2022-12-01T11:00:38.278569Z"
    }
   },
   "outputs": [],
   "source": [
    "#X_test_prep_df = scaler_features(X_test)"
   ]
  },
  {
   "cell_type": "code",
   "execution_count": 27,
   "id": "63454072",
   "metadata": {
    "ExecuteTime": {
     "end_time": "2022-12-01T11:00:38.314322Z",
     "start_time": "2022-12-01T11:00:38.299399Z"
    }
   },
   "outputs": [
    {
     "data": {
      "text/plain": [
       "0.3484015613334338"
      ]
     },
     "execution_count": 27,
     "metadata": {},
     "output_type": "execute_result"
    }
   ],
   "source": [
    "lr.score(X_test_prep_df,y_test)"
   ]
  },
  {
   "cell_type": "code",
   "execution_count": null,
   "id": "537c54a5",
   "metadata": {
    "ExecuteTime": {
     "end_time": "2022-11-28T14:49:58.529320Z",
     "start_time": "2022-11-28T14:49:58.374116Z"
    }
   },
   "outputs": [],
   "source": []
  },
  {
   "cell_type": "code",
   "execution_count": null,
   "id": "44791bdf",
   "metadata": {},
   "outputs": [],
   "source": []
  }
 ],
 "metadata": {
  "hide_input": false,
  "kernelspec": {
   "display_name": "Python 3.8.12 64-bit ('shims')",
   "language": "python",
   "name": "python3"
  },
  "language_info": {
   "codemirror_mode": {
    "name": "ipython",
    "version": 3
   },
   "file_extension": ".py",
   "mimetype": "text/x-python",
   "name": "python",
   "nbconvert_exporter": "python",
   "pygments_lexer": "ipython3",
   "version": "3.8.12"
  },
  "toc": {
   "base_numbering": 1,
   "nav_menu": {},
   "number_sections": true,
   "sideBar": true,
   "skip_h1_title": false,
   "title_cell": "Table of Contents",
   "title_sidebar": "Contents",
   "toc_cell": false,
   "toc_position": {
    "height": "calc(100% - 180px)",
    "left": "10px",
    "top": "150px",
    "width": "288px"
   },
   "toc_section_display": true,
   "toc_window_display": true
  },
  "vscode": {
   "interpreter": {
    "hash": "e588d92b224e11b16adbbadd39936dea13a6488171770263a646fc57f44563d8"
   }
  }
 },
 "nbformat": 4,
 "nbformat_minor": 5
}
