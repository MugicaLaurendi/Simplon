{
 "cells": [
  {
   "cell_type": "markdown",
   "id": "94432cce",
   "metadata": {},
   "source": [
    "# Structurer un workflow pour le déployer en production"
   ]
  },
  {
   "cell_type": "markdown",
   "id": "802ac175",
   "metadata": {
    "ExecuteTime": {
     "end_time": "2022-11-28T13:47:05.605167Z",
     "start_time": "2022-11-28T13:47:05.598795Z"
    }
   },
   "source": [
    "<img src=\"../images/workflow.png\" alt=\"image workflow\">"
   ]
  },
  {
   "cell_type": "code",
   "execution_count": 243,
   "id": "4b6a5445",
   "metadata": {
    "ExecuteTime": {
     "end_time": "2022-11-29T12:08:53.201993Z",
     "start_time": "2022-11-29T12:08:50.968368Z"
    }
   },
   "outputs": [],
   "source": [
    "import pandas as pd \n",
    "import seaborn as sns\n",
    "from sklearn.model_selection import train_test_split\n",
    "import matplotlib.pyplot as plt\n",
    "from sklearn.preprocessing import StandardScaler"
   ]
  },
  {
   "cell_type": "code",
   "execution_count": 244,
   "id": "f6777662",
   "metadata": {
    "ExecuteTime": {
     "end_time": "2022-11-29T12:08:53.220318Z",
     "start_time": "2022-11-29T12:08:53.204403Z"
    }
   },
   "outputs": [],
   "source": [
    "data = sns.load_dataset('tips')"
   ]
  },
  {
   "cell_type": "code",
   "execution_count": 245,
   "id": "a7598e31",
   "metadata": {
    "ExecuteTime": {
     "end_time": "2022-11-29T12:08:53.235976Z",
     "start_time": "2022-11-29T12:08:53.225393Z"
    }
   },
   "outputs": [
    {
     "name": "stdout",
     "output_type": "stream",
     "text": [
      "<class 'pandas.core.frame.DataFrame'>\n",
      "RangeIndex: 244 entries, 0 to 243\n",
      "Data columns (total 7 columns):\n",
      " #   Column      Non-Null Count  Dtype   \n",
      "---  ------      --------------  -----   \n",
      " 0   total_bill  244 non-null    float64 \n",
      " 1   tip         244 non-null    float64 \n",
      " 2   sex         244 non-null    category\n",
      " 3   smoker      244 non-null    category\n",
      " 4   day         244 non-null    category\n",
      " 5   time        244 non-null    category\n",
      " 6   size        244 non-null    int64   \n",
      "dtypes: category(4), float64(2), int64(1)\n",
      "memory usage: 7.4 KB\n"
     ]
    }
   ],
   "source": [
    "data.info()"
   ]
  },
  {
   "cell_type": "code",
   "execution_count": 246,
   "id": "f2e9666a",
   "metadata": {
    "ExecuteTime": {
     "end_time": "2022-11-29T12:08:53.255019Z",
     "start_time": "2022-11-29T12:08:53.238013Z"
    }
   },
   "outputs": [
    {
     "data": {
      "text/html": [
       "<div>\n",
       "<style scoped>\n",
       "    .dataframe tbody tr th:only-of-type {\n",
       "        vertical-align: middle;\n",
       "    }\n",
       "\n",
       "    .dataframe tbody tr th {\n",
       "        vertical-align: top;\n",
       "    }\n",
       "\n",
       "    .dataframe thead th {\n",
       "        text-align: right;\n",
       "    }\n",
       "</style>\n",
       "<table border=\"1\" class=\"dataframe\">\n",
       "  <thead>\n",
       "    <tr style=\"text-align: right;\">\n",
       "      <th></th>\n",
       "      <th>total_bill</th>\n",
       "      <th>tip</th>\n",
       "      <th>sex</th>\n",
       "      <th>smoker</th>\n",
       "      <th>day</th>\n",
       "      <th>time</th>\n",
       "      <th>size</th>\n",
       "    </tr>\n",
       "  </thead>\n",
       "  <tbody>\n",
       "    <tr>\n",
       "      <th>0</th>\n",
       "      <td>16.99</td>\n",
       "      <td>1.01</td>\n",
       "      <td>Female</td>\n",
       "      <td>No</td>\n",
       "      <td>Sun</td>\n",
       "      <td>Dinner</td>\n",
       "      <td>2</td>\n",
       "    </tr>\n",
       "    <tr>\n",
       "      <th>1</th>\n",
       "      <td>10.34</td>\n",
       "      <td>1.66</td>\n",
       "      <td>Male</td>\n",
       "      <td>No</td>\n",
       "      <td>Sun</td>\n",
       "      <td>Dinner</td>\n",
       "      <td>3</td>\n",
       "    </tr>\n",
       "  </tbody>\n",
       "</table>\n",
       "</div>"
      ],
      "text/plain": [
       "   total_bill   tip     sex smoker  day    time  size\n",
       "0       16.99  1.01  Female     No  Sun  Dinner     2\n",
       "1       10.34  1.66    Male     No  Sun  Dinner     3"
      ]
     },
     "execution_count": 246,
     "metadata": {},
     "output_type": "execute_result"
    }
   ],
   "source": [
    "data.head(2)"
   ]
  },
  {
   "cell_type": "code",
   "execution_count": 247,
   "id": "cc9a5857",
   "metadata": {
    "ExecuteTime": {
     "end_time": "2022-11-29T12:08:53.260311Z",
     "start_time": "2022-11-29T12:08:53.257038Z"
    },
    "scrolled": true
   },
   "outputs": [],
   "source": [
    "y = data['tip']"
   ]
  },
  {
   "cell_type": "code",
   "execution_count": null,
   "id": "57226b73",
   "metadata": {
    "ExecuteTime": {
     "end_time": "2022-11-29T10:16:21.694512Z",
     "start_time": "2022-11-29T10:16:21.684123Z"
    }
   },
   "outputs": [],
   "source": []
  },
  {
   "cell_type": "code",
   "execution_count": 248,
   "id": "4287f9c0",
   "metadata": {
    "ExecuteTime": {
     "end_time": "2022-11-29T12:08:53.269058Z",
     "start_time": "2022-11-29T12:08:53.263515Z"
    }
   },
   "outputs": [],
   "source": [
    "X = data.drop(columns=['tip'])"
   ]
  },
  {
   "cell_type": "code",
   "execution_count": 249,
   "id": "31e733ea",
   "metadata": {
    "ExecuteTime": {
     "end_time": "2022-11-29T12:08:53.276349Z",
     "start_time": "2022-11-29T12:08:53.271720Z"
    }
   },
   "outputs": [],
   "source": [
    "X_train,X_test, y_train, y_test = train_test_split(X, y, test_size=0.3)"
   ]
  },
  {
   "cell_type": "code",
   "execution_count": 250,
   "id": "9bd95936",
   "metadata": {
    "ExecuteTime": {
     "end_time": "2022-11-29T12:08:53.334655Z",
     "start_time": "2022-11-29T12:08:53.278166Z"
    }
   },
   "outputs": [],
   "source": [
    "from sklearn.linear_model import LinearRegression"
   ]
  },
  {
   "cell_type": "code",
   "execution_count": 251,
   "id": "a788f0cc",
   "metadata": {
    "ExecuteTime": {
     "end_time": "2022-11-29T12:08:53.342729Z",
     "start_time": "2022-11-29T12:08:53.339264Z"
    }
   },
   "outputs": [],
   "source": [
    "lg = LinearRegression()"
   ]
  },
  {
   "cell_type": "markdown",
   "id": "9564bba5",
   "metadata": {},
   "source": [
    "# Iteration 1 - categoric features (get_dummies)"
   ]
  },
  {
   "cell_type": "code",
   "execution_count": 252,
   "id": "6ebead9f",
   "metadata": {
    "ExecuteTime": {
     "end_time": "2022-11-29T12:08:53.364803Z",
     "start_time": "2022-11-29T12:08:53.345107Z"
    }
   },
   "outputs": [
    {
     "data": {
      "text/html": [
       "<div>\n",
       "<style scoped>\n",
       "    .dataframe tbody tr th:only-of-type {\n",
       "        vertical-align: middle;\n",
       "    }\n",
       "\n",
       "    .dataframe tbody tr th {\n",
       "        vertical-align: top;\n",
       "    }\n",
       "\n",
       "    .dataframe thead th {\n",
       "        text-align: right;\n",
       "    }\n",
       "</style>\n",
       "<table border=\"1\" class=\"dataframe\">\n",
       "  <thead>\n",
       "    <tr style=\"text-align: right;\">\n",
       "      <th></th>\n",
       "      <th>total_bill</th>\n",
       "      <th>sex</th>\n",
       "      <th>smoker</th>\n",
       "      <th>day</th>\n",
       "      <th>time</th>\n",
       "      <th>size</th>\n",
       "    </tr>\n",
       "  </thead>\n",
       "  <tbody>\n",
       "    <tr>\n",
       "      <th>168</th>\n",
       "      <td>10.59</td>\n",
       "      <td>Female</td>\n",
       "      <td>Yes</td>\n",
       "      <td>Sat</td>\n",
       "      <td>Dinner</td>\n",
       "      <td>2</td>\n",
       "    </tr>\n",
       "    <tr>\n",
       "      <th>137</th>\n",
       "      <td>14.15</td>\n",
       "      <td>Female</td>\n",
       "      <td>No</td>\n",
       "      <td>Thur</td>\n",
       "      <td>Lunch</td>\n",
       "      <td>2</td>\n",
       "    </tr>\n",
       "    <tr>\n",
       "      <th>152</th>\n",
       "      <td>17.26</td>\n",
       "      <td>Male</td>\n",
       "      <td>No</td>\n",
       "      <td>Sun</td>\n",
       "      <td>Dinner</td>\n",
       "      <td>3</td>\n",
       "    </tr>\n",
       "    <tr>\n",
       "      <th>111</th>\n",
       "      <td>7.25</td>\n",
       "      <td>Female</td>\n",
       "      <td>No</td>\n",
       "      <td>Sat</td>\n",
       "      <td>Dinner</td>\n",
       "      <td>1</td>\n",
       "    </tr>\n",
       "    <tr>\n",
       "      <th>100</th>\n",
       "      <td>11.35</td>\n",
       "      <td>Female</td>\n",
       "      <td>Yes</td>\n",
       "      <td>Fri</td>\n",
       "      <td>Dinner</td>\n",
       "      <td>2</td>\n",
       "    </tr>\n",
       "    <tr>\n",
       "      <th>...</th>\n",
       "      <td>...</td>\n",
       "      <td>...</td>\n",
       "      <td>...</td>\n",
       "      <td>...</td>\n",
       "      <td>...</td>\n",
       "      <td>...</td>\n",
       "    </tr>\n",
       "    <tr>\n",
       "      <th>192</th>\n",
       "      <td>28.44</td>\n",
       "      <td>Male</td>\n",
       "      <td>Yes</td>\n",
       "      <td>Thur</td>\n",
       "      <td>Lunch</td>\n",
       "      <td>2</td>\n",
       "    </tr>\n",
       "    <tr>\n",
       "      <th>178</th>\n",
       "      <td>9.60</td>\n",
       "      <td>Female</td>\n",
       "      <td>Yes</td>\n",
       "      <td>Sun</td>\n",
       "      <td>Dinner</td>\n",
       "      <td>2</td>\n",
       "    </tr>\n",
       "    <tr>\n",
       "      <th>185</th>\n",
       "      <td>20.69</td>\n",
       "      <td>Male</td>\n",
       "      <td>No</td>\n",
       "      <td>Sun</td>\n",
       "      <td>Dinner</td>\n",
       "      <td>5</td>\n",
       "    </tr>\n",
       "    <tr>\n",
       "      <th>234</th>\n",
       "      <td>15.53</td>\n",
       "      <td>Male</td>\n",
       "      <td>Yes</td>\n",
       "      <td>Sat</td>\n",
       "      <td>Dinner</td>\n",
       "      <td>2</td>\n",
       "    </tr>\n",
       "    <tr>\n",
       "      <th>74</th>\n",
       "      <td>14.73</td>\n",
       "      <td>Female</td>\n",
       "      <td>No</td>\n",
       "      <td>Sat</td>\n",
       "      <td>Dinner</td>\n",
       "      <td>2</td>\n",
       "    </tr>\n",
       "  </tbody>\n",
       "</table>\n",
       "<p>170 rows × 6 columns</p>\n",
       "</div>"
      ],
      "text/plain": [
       "     total_bill     sex smoker   day    time  size\n",
       "168       10.59  Female    Yes   Sat  Dinner     2\n",
       "137       14.15  Female     No  Thur   Lunch     2\n",
       "152       17.26    Male     No   Sun  Dinner     3\n",
       "111        7.25  Female     No   Sat  Dinner     1\n",
       "100       11.35  Female    Yes   Fri  Dinner     2\n",
       "..          ...     ...    ...   ...     ...   ...\n",
       "192       28.44    Male    Yes  Thur   Lunch     2\n",
       "178        9.60  Female    Yes   Sun  Dinner     2\n",
       "185       20.69    Male     No   Sun  Dinner     5\n",
       "234       15.53    Male    Yes   Sat  Dinner     2\n",
       "74        14.73  Female     No   Sat  Dinner     2\n",
       "\n",
       "[170 rows x 6 columns]"
      ]
     },
     "execution_count": 252,
     "metadata": {},
     "output_type": "execute_result"
    }
   ],
   "source": [
    "X_train"
   ]
  },
  {
   "cell_type": "code",
   "execution_count": 253,
   "id": "e5d7f999",
   "metadata": {
    "ExecuteTime": {
     "end_time": "2022-11-29T12:08:53.372175Z",
     "start_time": "2022-11-29T12:08:53.366702Z"
    }
   },
   "outputs": [
    {
     "data": {
      "text/plain": [
       "168    1.61\n",
       "137    2.00\n",
       "152    2.74\n",
       "111    1.00\n",
       "100    2.50\n",
       "       ... \n",
       "192    2.56\n",
       "178    4.00\n",
       "185    5.00\n",
       "234    3.00\n",
       "74     2.20\n",
       "Name: tip, Length: 170, dtype: float64"
      ]
     },
     "execution_count": 253,
     "metadata": {},
     "output_type": "execute_result"
    }
   ],
   "source": [
    "y_train"
   ]
  },
  {
   "cell_type": "code",
   "execution_count": 254,
   "id": "5eaf2d93",
   "metadata": {
    "ExecuteTime": {
     "end_time": "2022-11-29T12:08:53.377548Z",
     "start_time": "2022-11-29T12:08:53.374171Z"
    }
   },
   "outputs": [],
   "source": [
    "#lg.fit(X_train, y_train)"
   ]
  },
  {
   "cell_type": "code",
   "execution_count": 255,
   "id": "5e557cef",
   "metadata": {
    "ExecuteTime": {
     "end_time": "2022-11-29T12:08:53.392632Z",
     "start_time": "2022-11-29T12:08:53.379834Z"
    }
   },
   "outputs": [
    {
     "data": {
      "text/html": [
       "<div>\n",
       "<style scoped>\n",
       "    .dataframe tbody tr th:only-of-type {\n",
       "        vertical-align: middle;\n",
       "    }\n",
       "\n",
       "    .dataframe tbody tr th {\n",
       "        vertical-align: top;\n",
       "    }\n",
       "\n",
       "    .dataframe thead th {\n",
       "        text-align: right;\n",
       "    }\n",
       "</style>\n",
       "<table border=\"1\" class=\"dataframe\">\n",
       "  <thead>\n",
       "    <tr style=\"text-align: right;\">\n",
       "      <th></th>\n",
       "      <th>total_bill</th>\n",
       "      <th>sex</th>\n",
       "      <th>smoker</th>\n",
       "      <th>day</th>\n",
       "      <th>time</th>\n",
       "      <th>size</th>\n",
       "    </tr>\n",
       "  </thead>\n",
       "  <tbody>\n",
       "    <tr>\n",
       "      <th>2</th>\n",
       "      <td>21.01</td>\n",
       "      <td>Male</td>\n",
       "      <td>No</td>\n",
       "      <td>Sun</td>\n",
       "      <td>Dinner</td>\n",
       "      <td>3</td>\n",
       "    </tr>\n",
       "    <tr>\n",
       "      <th>231</th>\n",
       "      <td>15.69</td>\n",
       "      <td>Male</td>\n",
       "      <td>Yes</td>\n",
       "      <td>Sat</td>\n",
       "      <td>Dinner</td>\n",
       "      <td>3</td>\n",
       "    </tr>\n",
       "  </tbody>\n",
       "</table>\n",
       "</div>"
      ],
      "text/plain": [
       "     total_bill   sex smoker  day    time  size\n",
       "2         21.01  Male     No  Sun  Dinner     3\n",
       "231       15.69  Male    Yes  Sat  Dinner     3"
      ]
     },
     "execution_count": 255,
     "metadata": {},
     "output_type": "execute_result"
    }
   ],
   "source": [
    "X_train.sample(2)"
   ]
  },
  {
   "cell_type": "code",
   "execution_count": 256,
   "id": "41db2e91",
   "metadata": {
    "ExecuteTime": {
     "end_time": "2022-11-29T12:08:53.404065Z",
     "start_time": "2022-11-29T12:08:53.394480Z"
    }
   },
   "outputs": [],
   "source": [
    "X_train_dummies = pd.get_dummies(X_train)"
   ]
  },
  {
   "cell_type": "code",
   "execution_count": 257,
   "id": "f7ffaa73",
   "metadata": {
    "ExecuteTime": {
     "end_time": "2022-11-29T12:08:53.418099Z",
     "start_time": "2022-11-29T12:08:53.406165Z"
    }
   },
   "outputs": [
    {
     "data": {
      "text/html": [
       "<div>\n",
       "<style scoped>\n",
       "    .dataframe tbody tr th:only-of-type {\n",
       "        vertical-align: middle;\n",
       "    }\n",
       "\n",
       "    .dataframe tbody tr th {\n",
       "        vertical-align: top;\n",
       "    }\n",
       "\n",
       "    .dataframe thead th {\n",
       "        text-align: right;\n",
       "    }\n",
       "</style>\n",
       "<table border=\"1\" class=\"dataframe\">\n",
       "  <thead>\n",
       "    <tr style=\"text-align: right;\">\n",
       "      <th></th>\n",
       "      <th>total_bill</th>\n",
       "      <th>size</th>\n",
       "      <th>sex_Male</th>\n",
       "      <th>sex_Female</th>\n",
       "      <th>smoker_Yes</th>\n",
       "      <th>smoker_No</th>\n",
       "      <th>day_Thur</th>\n",
       "      <th>day_Fri</th>\n",
       "      <th>day_Sat</th>\n",
       "      <th>day_Sun</th>\n",
       "      <th>time_Lunch</th>\n",
       "      <th>time_Dinner</th>\n",
       "    </tr>\n",
       "  </thead>\n",
       "  <tbody>\n",
       "    <tr>\n",
       "      <th>159</th>\n",
       "      <td>16.49</td>\n",
       "      <td>4</td>\n",
       "      <td>1</td>\n",
       "      <td>0</td>\n",
       "      <td>0</td>\n",
       "      <td>1</td>\n",
       "      <td>0</td>\n",
       "      <td>0</td>\n",
       "      <td>0</td>\n",
       "      <td>1</td>\n",
       "      <td>0</td>\n",
       "      <td>1</td>\n",
       "    </tr>\n",
       "    <tr>\n",
       "      <th>201</th>\n",
       "      <td>12.74</td>\n",
       "      <td>2</td>\n",
       "      <td>0</td>\n",
       "      <td>1</td>\n",
       "      <td>1</td>\n",
       "      <td>0</td>\n",
       "      <td>1</td>\n",
       "      <td>0</td>\n",
       "      <td>0</td>\n",
       "      <td>0</td>\n",
       "      <td>1</td>\n",
       "      <td>0</td>\n",
       "    </tr>\n",
       "  </tbody>\n",
       "</table>\n",
       "</div>"
      ],
      "text/plain": [
       "     total_bill  size  sex_Male  sex_Female  smoker_Yes  smoker_No  day_Thur  \\\n",
       "159       16.49     4         1           0           0          1         0   \n",
       "201       12.74     2         0           1           1          0         1   \n",
       "\n",
       "     day_Fri  day_Sat  day_Sun  time_Lunch  time_Dinner  \n",
       "159        0        0        1           0            1  \n",
       "201        0        0        0           1            0  "
      ]
     },
     "execution_count": 257,
     "metadata": {},
     "output_type": "execute_result"
    }
   ],
   "source": [
    "X_train_dummies.sample(2)"
   ]
  },
  {
   "cell_type": "code",
   "execution_count": 258,
   "id": "c884812a",
   "metadata": {
    "ExecuteTime": {
     "end_time": "2022-11-29T12:08:53.427852Z",
     "start_time": "2022-11-29T12:08:53.420113Z"
    }
   },
   "outputs": [],
   "source": [
    "lg_train = lg.fit(X_train_dummies, y_train)"
   ]
  },
  {
   "cell_type": "code",
   "execution_count": 259,
   "id": "57b45fdd",
   "metadata": {
    "ExecuteTime": {
     "end_time": "2022-11-29T12:08:53.438759Z",
     "start_time": "2022-11-29T12:08:53.429874Z"
    }
   },
   "outputs": [],
   "source": [
    "X_test_dummies = pd.get_dummies(X_test)"
   ]
  },
  {
   "cell_type": "code",
   "execution_count": 260,
   "id": "2348dc68",
   "metadata": {
    "ExecuteTime": {
     "end_time": "2022-11-29T12:08:53.448473Z",
     "start_time": "2022-11-29T12:08:53.440930Z"
    }
   },
   "outputs": [
    {
     "data": {
      "text/plain": [
       "0.42581605349666496"
      ]
     },
     "execution_count": 260,
     "metadata": {},
     "output_type": "execute_result"
    }
   ],
   "source": [
    "lg_train.score(X_test_dummies, y_test)"
   ]
  },
  {
   "cell_type": "markdown",
   "id": "42fa481b",
   "metadata": {},
   "source": [
    "# Iteration 2 - categoric + numeric features"
   ]
  },
  {
   "cell_type": "code",
   "execution_count": 261,
   "id": "cd87e281",
   "metadata": {
    "ExecuteTime": {
     "end_time": "2022-11-29T12:08:53.454853Z",
     "start_time": "2022-11-29T12:08:53.450431Z"
    }
   },
   "outputs": [],
   "source": [
    "X_train_2,X_test_2, y_train_2, y_test_2 = train_test_split(X, y, test_size=0.3)"
   ]
  },
  {
   "cell_type": "code",
   "execution_count": 262,
   "id": "f5bba66d",
   "metadata": {
    "ExecuteTime": {
     "end_time": "2022-11-29T12:08:53.722257Z",
     "start_time": "2022-11-29T12:08:53.457727Z"
    }
   },
   "outputs": [
    {
     "data": {
      "image/png": "[encoded data removed]",
      "text/plain": [
       "<Figure size 432x288 with 1 Axes>"
      ]
     },
     "metadata": {
      "needs_background": "light"
     },
     "output_type": "display_data"
    }
   ],
   "source": [
    "sns.histplot(data=X_train_2[[\"total_bill\"]], kde=True);"
   ]
  },
  {
   "cell_type": "code",
   "execution_count": 263,
   "id": "bbf4ab5e",
   "metadata": {
    "ExecuteTime": {
     "end_time": "2022-11-29T12:08:54.015113Z",
     "start_time": "2022-11-29T12:08:53.725088Z"
    }
   },
   "outputs": [
    {
     "data": {
      "text/plain": [
       "<AxesSubplot:ylabel='Count'>"
      ]
     },
     "execution_count": 263,
     "metadata": {},
     "output_type": "execute_result"
    },
    {
     "data": {
      "image/png": "[encoded data removed]",
      "text/plain": [
       "<Figure size 432x288 with 1 Axes>"
      ]
     },
     "metadata": {
      "needs_background": "light"
     },
     "output_type": "display_data"
    }
   ],
   "source": [
    "sns.histplot(data=X_train_2[[\"size\"]], kde=True)"
   ]
  },
  {
   "cell_type": "markdown",
   "id": "af841f65",
   "metadata": {},
   "source": [
    "## Scaler"
   ]
  },
  {
   "cell_type": "markdown",
   "id": "cd04af75",
   "metadata": {},
   "source": [
    "### Numerical features"
   ]
  },
  {
   "cell_type": "code",
   "execution_count": 264,
   "id": "52b006e0",
   "metadata": {
    "ExecuteTime": {
     "end_time": "2022-11-29T12:08:54.021797Z",
     "start_time": "2022-11-29T12:08:54.018617Z"
    }
   },
   "outputs": [],
   "source": [
    "from sklearn.preprocessing import MinMaxScaler"
   ]
  },
  {
   "cell_type": "code",
   "execution_count": 265,
   "id": "9dafe731",
   "metadata": {
    "ExecuteTime": {
     "end_time": "2022-11-29T12:08:54.034808Z",
     "start_time": "2022-11-29T12:08:54.024521Z"
    }
   },
   "outputs": [],
   "source": [
    "scaler = MinMaxScaler()\n",
    "scaler.fit(X_train_2[[\"size\",\"total_bill\"]])\n",
    "X_train_2_scaled = scaler.transform(X_train_2[[\"size\",\"total_bill\"]])"
   ]
  },
  {
   "cell_type": "code",
   "execution_count": 266,
   "id": "de32a3f4",
   "metadata": {
    "ExecuteTime": {
     "end_time": "2022-11-29T12:08:54.042626Z",
     "start_time": "2022-11-29T12:08:54.037518Z"
    }
   },
   "outputs": [],
   "source": [
    "X_train_2_scaled_df = pd.DataFrame(X_train_2_scaled).rename(columns={0: \"size_scaled\", 1: \"total_bill_scaled\"})"
   ]
  },
  {
   "cell_type": "code",
   "execution_count": 267,
   "id": "25145a1b",
   "metadata": {
    "ExecuteTime": {
     "end_time": "2022-11-29T12:08:54.063205Z",
     "start_time": "2022-11-29T12:08:54.045194Z"
    },
    "scrolled": false
   },
   "outputs": [
    {
     "data": {
      "text/html": [
       "<div>\n",
       "<style scoped>\n",
       "    .dataframe tbody tr th:only-of-type {\n",
       "        vertical-align: middle;\n",
       "    }\n",
       "\n",
       "    .dataframe tbody tr th {\n",
       "        vertical-align: top;\n",
       "    }\n",
       "\n",
       "    .dataframe thead th {\n",
       "        text-align: right;\n",
       "    }\n",
       "</style>\n",
       "<table border=\"1\" class=\"dataframe\">\n",
       "  <thead>\n",
       "    <tr style=\"text-align: right;\">\n",
       "      <th></th>\n",
       "      <th>size_scaled</th>\n",
       "      <th>total_bill_scaled</th>\n",
       "    </tr>\n",
       "  </thead>\n",
       "  <tbody>\n",
       "    <tr>\n",
       "      <th>0</th>\n",
       "      <td>0.4</td>\n",
       "      <td>0.280687</td>\n",
       "    </tr>\n",
       "    <tr>\n",
       "      <th>1</th>\n",
       "      <td>0.6</td>\n",
       "      <td>0.465438</td>\n",
       "    </tr>\n",
       "    <tr>\n",
       "      <th>2</th>\n",
       "      <td>0.4</td>\n",
       "      <td>0.315878</td>\n",
       "    </tr>\n",
       "    <tr>\n",
       "      <th>3</th>\n",
       "      <td>0.2</td>\n",
       "      <td>0.276498</td>\n",
       "    </tr>\n",
       "    <tr>\n",
       "      <th>4</th>\n",
       "      <td>0.2</td>\n",
       "      <td>0.094051</td>\n",
       "    </tr>\n",
       "    <tr>\n",
       "      <th>...</th>\n",
       "      <td>...</td>\n",
       "      <td>...</td>\n",
       "    </tr>\n",
       "    <tr>\n",
       "      <th>165</th>\n",
       "      <td>0.2</td>\n",
       "      <td>0.056137</td>\n",
       "    </tr>\n",
       "    <tr>\n",
       "      <th>166</th>\n",
       "      <td>0.4</td>\n",
       "      <td>0.290323</td>\n",
       "    </tr>\n",
       "    <tr>\n",
       "      <th>167</th>\n",
       "      <td>0.2</td>\n",
       "      <td>0.301424</td>\n",
       "    </tr>\n",
       "    <tr>\n",
       "      <th>168</th>\n",
       "      <td>0.2</td>\n",
       "      <td>0.200880</td>\n",
       "    </tr>\n",
       "    <tr>\n",
       "      <th>169</th>\n",
       "      <td>0.4</td>\n",
       "      <td>0.525765</td>\n",
       "    </tr>\n",
       "  </tbody>\n",
       "</table>\n",
       "<p>170 rows × 2 columns</p>\n",
       "</div>"
      ],
      "text/plain": [
       "     size_scaled  total_bill_scaled\n",
       "0            0.4           0.280687\n",
       "1            0.6           0.465438\n",
       "2            0.4           0.315878\n",
       "3            0.2           0.276498\n",
       "4            0.2           0.094051\n",
       "..           ...                ...\n",
       "165          0.2           0.056137\n",
       "166          0.4           0.290323\n",
       "167          0.2           0.301424\n",
       "168          0.2           0.200880\n",
       "169          0.4           0.525765\n",
       "\n",
       "[170 rows x 2 columns]"
      ]
     },
     "execution_count": 267,
     "metadata": {},
     "output_type": "execute_result"
    }
   ],
   "source": [
    "X_train_2_scaled_df"
   ]
  },
  {
   "cell_type": "markdown",
   "id": "3397445c",
   "metadata": {},
   "source": [
    "### Categorical Features"
   ]
  },
  {
   "cell_type": "code",
   "execution_count": 268,
   "id": "6b3594bb",
   "metadata": {
    "ExecuteTime": {
     "end_time": "2022-11-29T12:08:54.077552Z",
     "start_time": "2022-11-29T12:08:54.066216Z"
    }
   },
   "outputs": [
    {
     "data": {
      "text/plain": [
       "sex       2\n",
       "smoker    2\n",
       "day       4\n",
       "time      2\n",
       "dtype: int64"
      ]
     },
     "execution_count": 268,
     "metadata": {},
     "output_type": "execute_result"
    }
   ],
   "source": [
    "X_train_2[[\"sex\",\"smoker\",\"day\",\"time\"]].nunique()"
   ]
  },
  {
   "cell_type": "code",
   "execution_count": 269,
   "id": "c5347fb5",
   "metadata": {
    "ExecuteTime": {
     "end_time": "2022-11-29T12:08:54.092380Z",
     "start_time": "2022-11-29T12:08:54.089696Z"
    }
   },
   "outputs": [],
   "source": [
    "from sklearn.preprocessing import OneHotEncoder"
   ]
  },
  {
   "cell_type": "code",
   "execution_count": 270,
   "id": "3bb9d065",
   "metadata": {
    "ExecuteTime": {
     "end_time": "2022-11-29T12:08:54.101159Z",
     "start_time": "2022-11-29T12:08:54.096850Z"
    }
   },
   "outputs": [],
   "source": [
    "ohe = OneHotEncoder()"
   ]
  },
  {
   "cell_type": "code",
   "execution_count": 271,
   "id": "099d1eff",
   "metadata": {
    "ExecuteTime": {
     "end_time": "2022-11-29T12:08:54.112963Z",
     "start_time": "2022-11-29T12:08:54.104055Z"
    }
   },
   "outputs": [
    {
     "data": {
      "text/plain": [
       "<170x10 sparse matrix of type '<class 'numpy.float64'>'\n",
       "\twith 680 stored elements in Compressed Sparse Row format>"
      ]
     },
     "execution_count": 271,
     "metadata": {},
     "output_type": "execute_result"
    }
   ],
   "source": [
    "ohe.fit_transform(X_train_2[[\"sex\",\"smoker\",\"day\",\"time\"]])"
   ]
  },
  {
   "cell_type": "code",
   "execution_count": 272,
   "id": "4a902b1b",
   "metadata": {
    "ExecuteTime": {
     "end_time": "2022-11-29T12:08:54.124059Z",
     "start_time": "2022-11-29T12:08:54.115128Z"
    }
   },
   "outputs": [],
   "source": [
    "X_train_2_ohe = ohe.fit_transform(X_train_2[[\"sex\",\"smoker\",\"day\",\"time\"]])"
   ]
  },
  {
   "cell_type": "code",
   "execution_count": 273,
   "id": "650f915d",
   "metadata": {
    "ExecuteTime": {
     "end_time": "2022-11-29T12:08:54.130837Z",
     "start_time": "2022-11-29T12:08:54.126671Z"
    }
   },
   "outputs": [],
   "source": [
    "\n",
    "X_train_2_ohe_df = pd.DataFrame.sparse.from_spmatrix(X_train_2_ohe)"
   ]
  },
  {
   "cell_type": "code",
   "execution_count": 274,
   "id": "79d532a9",
   "metadata": {
    "ExecuteTime": {
     "end_time": "2022-11-29T12:08:54.155040Z",
     "start_time": "2022-11-29T12:08:54.132918Z"
    }
   },
   "outputs": [
    {
     "data": {
      "text/html": [
       "<div>\n",
       "<style scoped>\n",
       "    .dataframe tbody tr th:only-of-type {\n",
       "        vertical-align: middle;\n",
       "    }\n",
       "\n",
       "    .dataframe tbody tr th {\n",
       "        vertical-align: top;\n",
       "    }\n",
       "\n",
       "    .dataframe thead th {\n",
       "        text-align: right;\n",
       "    }\n",
       "</style>\n",
       "<table border=\"1\" class=\"dataframe\">\n",
       "  <thead>\n",
       "    <tr style=\"text-align: right;\">\n",
       "      <th></th>\n",
       "      <th>0</th>\n",
       "      <th>1</th>\n",
       "      <th>2</th>\n",
       "      <th>3</th>\n",
       "      <th>4</th>\n",
       "      <th>5</th>\n",
       "      <th>6</th>\n",
       "      <th>7</th>\n",
       "      <th>8</th>\n",
       "      <th>9</th>\n",
       "    </tr>\n",
       "  </thead>\n",
       "  <tbody>\n",
       "    <tr>\n",
       "      <th>0</th>\n",
       "      <td>1.0</td>\n",
       "      <td>0.0</td>\n",
       "      <td>0.0</td>\n",
       "      <td>1.0</td>\n",
       "      <td>0.0</td>\n",
       "      <td>0.0</td>\n",
       "      <td>0.0</td>\n",
       "      <td>1.0</td>\n",
       "      <td>0.0</td>\n",
       "      <td>1.0</td>\n",
       "    </tr>\n",
       "    <tr>\n",
       "      <th>1</th>\n",
       "      <td>0.0</td>\n",
       "      <td>1.0</td>\n",
       "      <td>1.0</td>\n",
       "      <td>0.0</td>\n",
       "      <td>0.0</td>\n",
       "      <td>0.0</td>\n",
       "      <td>1.0</td>\n",
       "      <td>0.0</td>\n",
       "      <td>1.0</td>\n",
       "      <td>0.0</td>\n",
       "    </tr>\n",
       "  </tbody>\n",
       "</table>\n",
       "</div>"
      ],
      "text/plain": [
       "     0    1    2    3    4    5    6    7    8    9\n",
       "0  1.0  0.0  0.0  1.0  0.0  0.0  0.0  1.0  0.0  1.0\n",
       "1  0.0  1.0  1.0  0.0  0.0  0.0  1.0  0.0  1.0  0.0"
      ]
     },
     "execution_count": 274,
     "metadata": {},
     "output_type": "execute_result"
    }
   ],
   "source": [
    "X_train_2_ohe_df.head(2)"
   ]
  },
  {
   "cell_type": "code",
   "execution_count": 275,
   "id": "26355e34",
   "metadata": {
    "ExecuteTime": {
     "end_time": "2022-11-29T12:08:54.160783Z",
     "start_time": "2022-11-29T12:08:54.156773Z"
    }
   },
   "outputs": [],
   "source": [
    "X_train_2_prep_df = pd.concat([X_train_2_ohe_df, X_train_2_scaled_df], axis=1)"
   ]
  },
  {
   "cell_type": "code",
   "execution_count": 276,
   "id": "54fb6721",
   "metadata": {
    "ExecuteTime": {
     "end_time": "2022-11-29T12:08:54.211940Z",
     "start_time": "2022-11-29T12:08:54.164213Z"
    }
   },
   "outputs": [
    {
     "data": {
      "text/html": [
       "<div>\n",
       "<style scoped>\n",
       "    .dataframe tbody tr th:only-of-type {\n",
       "        vertical-align: middle;\n",
       "    }\n",
       "\n",
       "    .dataframe tbody tr th {\n",
       "        vertical-align: top;\n",
       "    }\n",
       "\n",
       "    .dataframe thead th {\n",
       "        text-align: right;\n",
       "    }\n",
       "</style>\n",
       "<table border=\"1\" class=\"dataframe\">\n",
       "  <thead>\n",
       "    <tr style=\"text-align: right;\">\n",
       "      <th></th>\n",
       "      <th>0</th>\n",
       "      <th>1</th>\n",
       "      <th>2</th>\n",
       "      <th>3</th>\n",
       "      <th>4</th>\n",
       "      <th>5</th>\n",
       "      <th>6</th>\n",
       "      <th>7</th>\n",
       "      <th>8</th>\n",
       "      <th>9</th>\n",
       "      <th>size_scaled</th>\n",
       "      <th>total_bill_scaled</th>\n",
       "    </tr>\n",
       "  </thead>\n",
       "  <tbody>\n",
       "    <tr>\n",
       "      <th>0</th>\n",
       "      <td>1.0</td>\n",
       "      <td>0.0</td>\n",
       "      <td>0.0</td>\n",
       "      <td>1.0</td>\n",
       "      <td>0.0</td>\n",
       "      <td>0.0</td>\n",
       "      <td>0.0</td>\n",
       "      <td>1.0</td>\n",
       "      <td>0.0</td>\n",
       "      <td>1.0</td>\n",
       "      <td>0.4</td>\n",
       "      <td>0.280687</td>\n",
       "    </tr>\n",
       "    <tr>\n",
       "      <th>1</th>\n",
       "      <td>0.0</td>\n",
       "      <td>1.0</td>\n",
       "      <td>1.0</td>\n",
       "      <td>0.0</td>\n",
       "      <td>0.0</td>\n",
       "      <td>0.0</td>\n",
       "      <td>1.0</td>\n",
       "      <td>0.0</td>\n",
       "      <td>1.0</td>\n",
       "      <td>0.0</td>\n",
       "      <td>0.6</td>\n",
       "      <td>0.465438</td>\n",
       "    </tr>\n",
       "    <tr>\n",
       "      <th>2</th>\n",
       "      <td>1.0</td>\n",
       "      <td>0.0</td>\n",
       "      <td>0.0</td>\n",
       "      <td>1.0</td>\n",
       "      <td>0.0</td>\n",
       "      <td>0.0</td>\n",
       "      <td>1.0</td>\n",
       "      <td>0.0</td>\n",
       "      <td>1.0</td>\n",
       "      <td>0.0</td>\n",
       "      <td>0.4</td>\n",
       "      <td>0.315878</td>\n",
       "    </tr>\n",
       "    <tr>\n",
       "      <th>3</th>\n",
       "      <td>1.0</td>\n",
       "      <td>0.0</td>\n",
       "      <td>0.0</td>\n",
       "      <td>1.0</td>\n",
       "      <td>1.0</td>\n",
       "      <td>0.0</td>\n",
       "      <td>0.0</td>\n",
       "      <td>0.0</td>\n",
       "      <td>0.0</td>\n",
       "      <td>1.0</td>\n",
       "      <td>0.2</td>\n",
       "      <td>0.276498</td>\n",
       "    </tr>\n",
       "    <tr>\n",
       "      <th>4</th>\n",
       "      <td>0.0</td>\n",
       "      <td>1.0</td>\n",
       "      <td>1.0</td>\n",
       "      <td>0.0</td>\n",
       "      <td>0.0</td>\n",
       "      <td>0.0</td>\n",
       "      <td>0.0</td>\n",
       "      <td>1.0</td>\n",
       "      <td>0.0</td>\n",
       "      <td>1.0</td>\n",
       "      <td>0.2</td>\n",
       "      <td>0.094051</td>\n",
       "    </tr>\n",
       "    <tr>\n",
       "      <th>...</th>\n",
       "      <td>...</td>\n",
       "      <td>...</td>\n",
       "      <td>...</td>\n",
       "      <td>...</td>\n",
       "      <td>...</td>\n",
       "      <td>...</td>\n",
       "      <td>...</td>\n",
       "      <td>...</td>\n",
       "      <td>...</td>\n",
       "      <td>...</td>\n",
       "      <td>...</td>\n",
       "      <td>...</td>\n",
       "    </tr>\n",
       "    <tr>\n",
       "      <th>165</th>\n",
       "      <td>1.0</td>\n",
       "      <td>0.0</td>\n",
       "      <td>0.0</td>\n",
       "      <td>1.0</td>\n",
       "      <td>1.0</td>\n",
       "      <td>0.0</td>\n",
       "      <td>0.0</td>\n",
       "      <td>0.0</td>\n",
       "      <td>1.0</td>\n",
       "      <td>0.0</td>\n",
       "      <td>0.2</td>\n",
       "      <td>0.056137</td>\n",
       "    </tr>\n",
       "    <tr>\n",
       "      <th>166</th>\n",
       "      <td>1.0</td>\n",
       "      <td>0.0</td>\n",
       "      <td>1.0</td>\n",
       "      <td>0.0</td>\n",
       "      <td>0.0</td>\n",
       "      <td>1.0</td>\n",
       "      <td>0.0</td>\n",
       "      <td>0.0</td>\n",
       "      <td>1.0</td>\n",
       "      <td>0.0</td>\n",
       "      <td>0.4</td>\n",
       "      <td>0.290323</td>\n",
       "    </tr>\n",
       "    <tr>\n",
       "      <th>167</th>\n",
       "      <td>0.0</td>\n",
       "      <td>1.0</td>\n",
       "      <td>1.0</td>\n",
       "      <td>0.0</td>\n",
       "      <td>0.0</td>\n",
       "      <td>0.0</td>\n",
       "      <td>1.0</td>\n",
       "      <td>0.0</td>\n",
       "      <td>1.0</td>\n",
       "      <td>0.0</td>\n",
       "      <td>0.2</td>\n",
       "      <td>0.301424</td>\n",
       "    </tr>\n",
       "    <tr>\n",
       "      <th>168</th>\n",
       "      <td>0.0</td>\n",
       "      <td>1.0</td>\n",
       "      <td>1.0</td>\n",
       "      <td>0.0</td>\n",
       "      <td>0.0</td>\n",
       "      <td>0.0</td>\n",
       "      <td>1.0</td>\n",
       "      <td>0.0</td>\n",
       "      <td>1.0</td>\n",
       "      <td>0.0</td>\n",
       "      <td>0.2</td>\n",
       "      <td>0.200880</td>\n",
       "    </tr>\n",
       "    <tr>\n",
       "      <th>169</th>\n",
       "      <td>1.0</td>\n",
       "      <td>0.0</td>\n",
       "      <td>0.0</td>\n",
       "      <td>1.0</td>\n",
       "      <td>0.0</td>\n",
       "      <td>1.0</td>\n",
       "      <td>0.0</td>\n",
       "      <td>0.0</td>\n",
       "      <td>1.0</td>\n",
       "      <td>0.0</td>\n",
       "      <td>0.4</td>\n",
       "      <td>0.525765</td>\n",
       "    </tr>\n",
       "  </tbody>\n",
       "</table>\n",
       "<p>170 rows × 12 columns</p>\n",
       "</div>"
      ],
      "text/plain": [
       "       0    1    2    3    4    5    6    7    8    9  size_scaled  \\\n",
       "0    1.0  0.0  0.0  1.0  0.0  0.0  0.0  1.0  0.0  1.0          0.4   \n",
       "1    0.0  1.0  1.0  0.0  0.0  0.0  1.0  0.0  1.0  0.0          0.6   \n",
       "2    1.0  0.0  0.0  1.0  0.0  0.0  1.0  0.0  1.0  0.0          0.4   \n",
       "3    1.0  0.0  0.0  1.0  1.0  0.0  0.0  0.0  0.0  1.0          0.2   \n",
       "4    0.0  1.0  1.0  0.0  0.0  0.0  0.0  1.0  0.0  1.0          0.2   \n",
       "..   ...  ...  ...  ...  ...  ...  ...  ...  ...  ...          ...   \n",
       "165  1.0  0.0  0.0  1.0  1.0  0.0  0.0  0.0  1.0  0.0          0.2   \n",
       "166  1.0  0.0  1.0  0.0  0.0  1.0  0.0  0.0  1.0  0.0          0.4   \n",
       "167  0.0  1.0  1.0  0.0  0.0  0.0  1.0  0.0  1.0  0.0          0.2   \n",
       "168  0.0  1.0  1.0  0.0  0.0  0.0  1.0  0.0  1.0  0.0          0.2   \n",
       "169  1.0  0.0  0.0  1.0  0.0  1.0  0.0  0.0  1.0  0.0          0.4   \n",
       "\n",
       "     total_bill_scaled  \n",
       "0             0.280687  \n",
       "1             0.465438  \n",
       "2             0.315878  \n",
       "3             0.276498  \n",
       "4             0.094051  \n",
       "..                 ...  \n",
       "165           0.056137  \n",
       "166           0.290323  \n",
       "167           0.301424  \n",
       "168           0.200880  \n",
       "169           0.525765  \n",
       "\n",
       "[170 rows x 12 columns]"
      ]
     },
     "execution_count": 276,
     "metadata": {},
     "output_type": "execute_result"
    }
   ],
   "source": [
    "X_train_2_prep_df"
   ]
  },
  {
   "cell_type": "code",
   "execution_count": 277,
   "id": "c1cd7f3c",
   "metadata": {
    "ExecuteTime": {
     "end_time": "2022-11-29T12:08:54.216872Z",
     "start_time": "2022-11-29T12:08:54.214015Z"
    }
   },
   "outputs": [],
   "source": [
    "lg_2 = LinearRegression()"
   ]
  },
  {
   "cell_type": "code",
   "execution_count": 278,
   "id": "ad2b7c7c",
   "metadata": {
    "ExecuteTime": {
     "end_time": "2022-11-29T12:08:54.229938Z",
     "start_time": "2022-11-29T12:08:54.219090Z"
    }
   },
   "outputs": [
    {
     "name": "stderr",
     "output_type": "stream",
     "text": [
      "/root/.pyenv/versions/simplon/lib/python3.8/site-packages/sklearn/utils/validation.py:1688: FutureWarning: Feature names only support names that are all strings. Got feature names with dtypes: ['int', 'str']. An error will be raised in 1.2.\n",
      "  warnings.warn(\n",
      "/root/.pyenv/versions/simplon/lib/python3.8/site-packages/sklearn/utils/validation.py:624: UserWarning: pandas.DataFrame with sparse columns found.It will be converted to a dense numpy array.\n",
      "  warnings.warn(\n"
     ]
    },
    {
     "data": {
      "text/plain": [
       "LinearRegression()"
      ]
     },
     "execution_count": 278,
     "metadata": {},
     "output_type": "execute_result"
    }
   ],
   "source": [
    "lg_2.fit(X_train_2_prep_df,y_train_2)"
   ]
  },
  {
   "cell_type": "code",
   "execution_count": null,
   "id": "445e93d5",
   "metadata": {
    "ExecuteTime": {
     "end_time": "2022-11-28T09:56:24.374770Z",
     "start_time": "2022-11-28T09:56:24.360969Z"
    }
   },
   "outputs": [],
   "source": []
  },
  {
   "cell_type": "code",
   "execution_count": 279,
   "id": "063b12d3",
   "metadata": {
    "ExecuteTime": {
     "end_time": "2022-11-29T12:08:54.235436Z",
     "start_time": "2022-11-29T12:08:54.232410Z"
    }
   },
   "outputs": [],
   "source": [
    "#===> Il faut scalé le X_test_2_prep_df. Avec la même methodologie que le X_train_2, sans faire de dataLeakeage. \n",
    "# ==> Creéer les methodes appropriées pour réutiliser la logique.\n"
   ]
  },
  {
   "cell_type": "code",
   "execution_count": 289,
   "id": "950e84da",
   "metadata": {},
   "outputs": [],
   "source": [
    "def to_scale(df,columns_list,standard=False) :\n",
    "    \n",
    "    if standard : scaler = StandardScaler()\n",
    "    else : scaler = MinMaxScaler()\n",
    "    \n",
    "    scaler.fit(X_train_2[columns_list])\n",
    "    df_scaled = scaler.transform(df[columns_list])\n",
    "\n",
    "    return pd.DataFrame(df_scaled).rename(columns={i:f\"{columns_list[i]}_scaled\" for i in range(len(columns_list))})\n",
    "\n"
   ]
  },
  {
   "cell_type": "code",
   "execution_count": 290,
   "id": "79de10c2",
   "metadata": {},
   "outputs": [],
   "source": [
    "def to_ohe(df,columns_list) :\n",
    "    \n",
    "    ohe = OneHotEncoder()\n",
    "    ohe.fit(X_train_2[columns_list])\n",
    "    df_ohe = ohe.transform(df[columns_list])\n",
    "\n",
    "    return pd.DataFrame.sparse.from_spmatrix(df_ohe)\n",
    "\n",
    "X_test_2_scaled = to_scale(X_test_2,['size','total_bill'])\n",
    "\n",
    "X_test_2_ohe = to_ohe(X_test_2,[\"sex\",\"smoker\",\"day\",\"time\"])\n",
    "\n",
    "X_test_2_prep_df= pd.concat([X_test_2_ohe, X_test_2_scaled], axis=1)\n"
   ]
  },
  {
   "cell_type": "code",
   "execution_count": 291,
   "id": "47777422",
   "metadata": {
    "ExecuteTime": {
     "end_time": "2022-11-29T12:08:54.240293Z",
     "start_time": "2022-11-29T12:08:54.237477Z"
    },
    "scrolled": true
   },
   "outputs": [
    {
     "name": "stderr",
     "output_type": "stream",
     "text": [
      "/root/.pyenv/versions/simplon/lib/python3.8/site-packages/sklearn/utils/validation.py:1688: FutureWarning: Feature names only support names that are all strings. Got feature names with dtypes: ['int', 'str']. An error will be raised in 1.2.\n",
      "  warnings.warn(\n",
      "/root/.pyenv/versions/simplon/lib/python3.8/site-packages/sklearn/utils/validation.py:624: UserWarning: pandas.DataFrame with sparse columns found.It will be converted to a dense numpy array.\n",
      "  warnings.warn(\n"
     ]
    },
    {
     "data": {
      "text/plain": [
       "0.17296917409394597"
      ]
     },
     "execution_count": 291,
     "metadata": {},
     "output_type": "execute_result"
    }
   ],
   "source": [
    "lg_2.score(X_test_2_prep_df, y_test_2)"
   ]
  },
  {
   "cell_type": "code",
   "execution_count": 292,
   "id": "29665420",
   "metadata": {},
   "outputs": [],
   "source": [
    "# Afficher un nuage de point qui révéle les informations suivantes : y_true vs y_predict en fonction de total_bill"
   ]
  },
  {
   "cell_type": "code",
   "execution_count": 302,
   "id": "c500d9b3",
   "metadata": {},
   "outputs": [
    {
     "data": {
      "image/png": "[encoded data removed]",
      "text/plain": [
       "<Figure size 720x576 with 1 Axes>"
      ]
     },
     "metadata": {
      "needs_background": "light"
     },
     "output_type": "display_data"
    }
   ],
   "source": [
    "plt.figure(figsize=(10,8))\n",
    "plt.scatter(X_test_2_prep_df['total_bill_scaled'],y_test_2)\n",
    "plt.scatter(X_train_2_prep_df['total_bill_scaled'],y_train_2)\n",
    "plt.show()"
   ]
  },
  {
   "cell_type": "code",
   "execution_count": 294,
   "id": "4c52195b",
   "metadata": {
    "ExecuteTime": {
     "end_time": "2022-11-29T12:08:54.245008Z",
     "start_time": "2022-11-29T12:08:54.242650Z"
    }
   },
   "outputs": [],
   "source": [
    "# Re-testester avec un StandardScaler => https://scikit-learn.org/stable/modules/generated/sklearn.preprocessing.StandardScaler.html"
   ]
  },
  {
   "cell_type": "code",
   "execution_count": 301,
   "id": "d23e527f",
   "metadata": {},
   "outputs": [
    {
     "data": {
      "image/png": "[encoded data removed]",
      "text/plain": [
       "<Figure size 720x576 with 1 Axes>"
      ]
     },
     "metadata": {
      "needs_background": "light"
     },
     "output_type": "display_data"
    }
   ],
   "source": [
    "X_test_2_scaled_std = to_scale(X_test_2,['size','total_bill'],True)\n",
    "\n",
    "X_test_2_ohe_std = to_ohe(X_test_2,[\"sex\",\"smoker\",\"day\",\"time\"])\n",
    "\n",
    "X_test_2_prep_df_std = pd.concat([X_test_2_ohe, X_test_2_scaled], axis=1)\n",
    "\n",
    "plt.figure(figsize=(10,8))\n",
    "plt.scatter(X_test_2_prep_df['total_bill_scaled'],y_test_2)\n",
    "plt.scatter(X_train_2_prep_df['total_bill_scaled'],y_train_2)\n",
    "plt.scatter(X_test_2_prep_df_std['total_bill_scaled'],y_test_2)\n",
    "plt.show()"
   ]
  },
  {
   "cell_type": "code",
   "execution_count": 295,
   "id": "cc77c5d7",
   "metadata": {
    "ExecuteTime": {
     "end_time": "2022-11-29T12:08:54.250084Z",
     "start_time": "2022-11-29T12:08:54.247217Z"
    }
   },
   "outputs": [],
   "source": [
    "# Afficher l'hétéroscédasticité ou l'homoscédasticité des erreurs."
   ]
  },
  {
   "cell_type": "code",
   "execution_count": 296,
   "id": "537c54a5",
   "metadata": {},
   "outputs": [],
   "source": [
    "# Afficher la distribution des erreurs. (Normalité des erreus)."
   ]
  },
  {
   "cell_type": "code",
   "execution_count": 297,
   "id": "208753ee",
   "metadata": {},
   "outputs": [],
   "source": [
    "# Créer un package à l'aide https://pypi.org/project/setuptools/"
   ]
  }
 ],
 "metadata": {
  "hide_input": false,
  "kernelspec": {
   "display_name": "Python 3.8.12 64-bit ('shims')",
   "language": "python",
   "name": "python3"
  },
  "language_info": {
   "codemirror_mode": {
    "name": "ipython",
    "version": 3
   },
   "file_extension": ".py",
   "mimetype": "text/x-python",
   "name": "python",
   "nbconvert_exporter": "python",
   "pygments_lexer": "ipython3",
   "version": "3.8.12"
  },
  "toc": {
   "base_numbering": 1,
   "nav_menu": {},
   "number_sections": true,
   "sideBar": true,
   "skip_h1_title": false,
   "title_cell": "Table of Contents",
   "title_sidebar": "Contents",
   "toc_cell": false,
   "toc_position": {},
   "toc_section_display": true,
   "toc_window_display": true
  },
  "vscode": {
   "interpreter": {
    "hash": "e588d92b224e11b16adbbadd39936dea13a6488171770263a646fc57f44563d8"
   }
  }
 },
 "nbformat": 4,
 "nbformat_minor": 5
}
